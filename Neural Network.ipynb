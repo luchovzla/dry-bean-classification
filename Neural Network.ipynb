{
 "cells": [
  {
   "cell_type": "code",
   "execution_count": 1,
   "metadata": {},
   "outputs": [],
   "source": [
    "# Seed for random events\n",
    "from numpy.random import seed\n",
    "seed(1)"
   ]
  },
  {
   "cell_type": "code",
   "execution_count": 2,
   "metadata": {},
   "outputs": [],
   "source": [
    "# Dependencies\n",
    "import numpy as np\n",
    "import pandas as pd"
   ]
  },
  {
   "cell_type": "code",
   "execution_count": 3,
   "metadata": {},
   "outputs": [
    {
     "name": "stderr",
     "output_type": "stream",
     "text": [
      "C:\\Users\\luisg\\anaconda3\\envs\\PythonData\\lib\\site-packages\\tensorflow\\python\\framework\\dtypes.py:516: FutureWarning: Passing (type, 1) or '1type' as a synonym of type is deprecated; in a future version of numpy, it will be understood as (type, (1,)) / '(1,)type'.\n",
      "  _np_qint8 = np.dtype([(\"qint8\", np.int8, 1)])\n",
      "C:\\Users\\luisg\\anaconda3\\envs\\PythonData\\lib\\site-packages\\tensorflow\\python\\framework\\dtypes.py:517: FutureWarning: Passing (type, 1) or '1type' as a synonym of type is deprecated; in a future version of numpy, it will be understood as (type, (1,)) / '(1,)type'.\n",
      "  _np_quint8 = np.dtype([(\"quint8\", np.uint8, 1)])\n",
      "C:\\Users\\luisg\\anaconda3\\envs\\PythonData\\lib\\site-packages\\tensorflow\\python\\framework\\dtypes.py:518: FutureWarning: Passing (type, 1) or '1type' as a synonym of type is deprecated; in a future version of numpy, it will be understood as (type, (1,)) / '(1,)type'.\n",
      "  _np_qint16 = np.dtype([(\"qint16\", np.int16, 1)])\n",
      "C:\\Users\\luisg\\anaconda3\\envs\\PythonData\\lib\\site-packages\\tensorflow\\python\\framework\\dtypes.py:519: FutureWarning: Passing (type, 1) or '1type' as a synonym of type is deprecated; in a future version of numpy, it will be understood as (type, (1,)) / '(1,)type'.\n",
      "  _np_quint16 = np.dtype([(\"quint16\", np.uint16, 1)])\n",
      "C:\\Users\\luisg\\anaconda3\\envs\\PythonData\\lib\\site-packages\\tensorflow\\python\\framework\\dtypes.py:520: FutureWarning: Passing (type, 1) or '1type' as a synonym of type is deprecated; in a future version of numpy, it will be understood as (type, (1,)) / '(1,)type'.\n",
      "  _np_qint32 = np.dtype([(\"qint32\", np.int32, 1)])\n",
      "C:\\Users\\luisg\\anaconda3\\envs\\PythonData\\lib\\site-packages\\tensorflow\\python\\framework\\dtypes.py:525: FutureWarning: Passing (type, 1) or '1type' as a synonym of type is deprecated; in a future version of numpy, it will be understood as (type, (1,)) / '(1,)type'.\n",
      "  np_resource = np.dtype([(\"resource\", np.ubyte, 1)])\n",
      "C:\\Users\\luisg\\anaconda3\\envs\\PythonData\\lib\\site-packages\\tensorboard\\compat\\tensorflow_stub\\dtypes.py:541: FutureWarning: Passing (type, 1) or '1type' as a synonym of type is deprecated; in a future version of numpy, it will be understood as (type, (1,)) / '(1,)type'.\n",
      "  _np_qint8 = np.dtype([(\"qint8\", np.int8, 1)])\n",
      "C:\\Users\\luisg\\anaconda3\\envs\\PythonData\\lib\\site-packages\\tensorboard\\compat\\tensorflow_stub\\dtypes.py:542: FutureWarning: Passing (type, 1) or '1type' as a synonym of type is deprecated; in a future version of numpy, it will be understood as (type, (1,)) / '(1,)type'.\n",
      "  _np_quint8 = np.dtype([(\"quint8\", np.uint8, 1)])\n",
      "C:\\Users\\luisg\\anaconda3\\envs\\PythonData\\lib\\site-packages\\tensorboard\\compat\\tensorflow_stub\\dtypes.py:543: FutureWarning: Passing (type, 1) or '1type' as a synonym of type is deprecated; in a future version of numpy, it will be understood as (type, (1,)) / '(1,)type'.\n",
      "  _np_qint16 = np.dtype([(\"qint16\", np.int16, 1)])\n",
      "C:\\Users\\luisg\\anaconda3\\envs\\PythonData\\lib\\site-packages\\tensorboard\\compat\\tensorflow_stub\\dtypes.py:544: FutureWarning: Passing (type, 1) or '1type' as a synonym of type is deprecated; in a future version of numpy, it will be understood as (type, (1,)) / '(1,)type'.\n",
      "  _np_quint16 = np.dtype([(\"quint16\", np.uint16, 1)])\n",
      "C:\\Users\\luisg\\anaconda3\\envs\\PythonData\\lib\\site-packages\\tensorboard\\compat\\tensorflow_stub\\dtypes.py:545: FutureWarning: Passing (type, 1) or '1type' as a synonym of type is deprecated; in a future version of numpy, it will be understood as (type, (1,)) / '(1,)type'.\n",
      "  _np_qint32 = np.dtype([(\"qint32\", np.int32, 1)])\n",
      "C:\\Users\\luisg\\anaconda3\\envs\\PythonData\\lib\\site-packages\\tensorboard\\compat\\tensorflow_stub\\dtypes.py:550: FutureWarning: Passing (type, 1) or '1type' as a synonym of type is deprecated; in a future version of numpy, it will be understood as (type, (1,)) / '(1,)type'.\n",
      "  np_resource = np.dtype([(\"resource\", np.ubyte, 1)])\n"
     ]
    }
   ],
   "source": [
    "import tensorflow"
   ]
  },
  {
   "cell_type": "code",
   "execution_count": 4,
   "metadata": {},
   "outputs": [
    {
     "data": {
      "text/html": [
       "<div>\n",
       "<style scoped>\n",
       "    .dataframe tbody tr th:only-of-type {\n",
       "        vertical-align: middle;\n",
       "    }\n",
       "\n",
       "    .dataframe tbody tr th {\n",
       "        vertical-align: top;\n",
       "    }\n",
       "\n",
       "    .dataframe thead th {\n",
       "        text-align: right;\n",
       "    }\n",
       "</style>\n",
       "<table border=\"1\" class=\"dataframe\">\n",
       "  <thead>\n",
       "    <tr style=\"text-align: right;\">\n",
       "      <th></th>\n",
       "      <th>Area</th>\n",
       "      <th>Perimeter</th>\n",
       "      <th>MajorAxisLength</th>\n",
       "      <th>MinorAxisLength</th>\n",
       "      <th>AspectRation</th>\n",
       "      <th>Eccentricity</th>\n",
       "      <th>ConvexArea</th>\n",
       "      <th>EquivDiameter</th>\n",
       "      <th>Extent</th>\n",
       "      <th>Solidity</th>\n",
       "      <th>roundness</th>\n",
       "      <th>Compactness</th>\n",
       "      <th>ShapeFactor1</th>\n",
       "      <th>ShapeFactor2</th>\n",
       "      <th>ShapeFactor3</th>\n",
       "      <th>ShapeFactor4</th>\n",
       "      <th>Class</th>\n",
       "    </tr>\n",
       "  </thead>\n",
       "  <tbody>\n",
       "    <tr>\n",
       "      <th>0</th>\n",
       "      <td>28395</td>\n",
       "      <td>610.291</td>\n",
       "      <td>208.178117</td>\n",
       "      <td>173.888747</td>\n",
       "      <td>1.197191</td>\n",
       "      <td>0.549812</td>\n",
       "      <td>28715</td>\n",
       "      <td>190.141097</td>\n",
       "      <td>0.763923</td>\n",
       "      <td>0.988856</td>\n",
       "      <td>0.958027</td>\n",
       "      <td>0.913358</td>\n",
       "      <td>0.007332</td>\n",
       "      <td>0.003147</td>\n",
       "      <td>0.834222</td>\n",
       "      <td>0.998724</td>\n",
       "      <td>SEKER</td>\n",
       "    </tr>\n",
       "    <tr>\n",
       "      <th>1</th>\n",
       "      <td>28734</td>\n",
       "      <td>638.018</td>\n",
       "      <td>200.524796</td>\n",
       "      <td>182.734419</td>\n",
       "      <td>1.097356</td>\n",
       "      <td>0.411785</td>\n",
       "      <td>29172</td>\n",
       "      <td>191.272751</td>\n",
       "      <td>0.783968</td>\n",
       "      <td>0.984986</td>\n",
       "      <td>0.887034</td>\n",
       "      <td>0.953861</td>\n",
       "      <td>0.006979</td>\n",
       "      <td>0.003564</td>\n",
       "      <td>0.909851</td>\n",
       "      <td>0.998430</td>\n",
       "      <td>SEKER</td>\n",
       "    </tr>\n",
       "    <tr>\n",
       "      <th>2</th>\n",
       "      <td>29380</td>\n",
       "      <td>624.110</td>\n",
       "      <td>212.826130</td>\n",
       "      <td>175.931143</td>\n",
       "      <td>1.209713</td>\n",
       "      <td>0.562727</td>\n",
       "      <td>29690</td>\n",
       "      <td>193.410904</td>\n",
       "      <td>0.778113</td>\n",
       "      <td>0.989559</td>\n",
       "      <td>0.947849</td>\n",
       "      <td>0.908774</td>\n",
       "      <td>0.007244</td>\n",
       "      <td>0.003048</td>\n",
       "      <td>0.825871</td>\n",
       "      <td>0.999066</td>\n",
       "      <td>SEKER</td>\n",
       "    </tr>\n",
       "    <tr>\n",
       "      <th>3</th>\n",
       "      <td>30008</td>\n",
       "      <td>645.884</td>\n",
       "      <td>210.557999</td>\n",
       "      <td>182.516516</td>\n",
       "      <td>1.153638</td>\n",
       "      <td>0.498616</td>\n",
       "      <td>30724</td>\n",
       "      <td>195.467062</td>\n",
       "      <td>0.782681</td>\n",
       "      <td>0.976696</td>\n",
       "      <td>0.903936</td>\n",
       "      <td>0.928329</td>\n",
       "      <td>0.007017</td>\n",
       "      <td>0.003215</td>\n",
       "      <td>0.861794</td>\n",
       "      <td>0.994199</td>\n",
       "      <td>SEKER</td>\n",
       "    </tr>\n",
       "    <tr>\n",
       "      <th>4</th>\n",
       "      <td>30140</td>\n",
       "      <td>620.134</td>\n",
       "      <td>201.847882</td>\n",
       "      <td>190.279279</td>\n",
       "      <td>1.060798</td>\n",
       "      <td>0.333680</td>\n",
       "      <td>30417</td>\n",
       "      <td>195.896503</td>\n",
       "      <td>0.773098</td>\n",
       "      <td>0.990893</td>\n",
       "      <td>0.984877</td>\n",
       "      <td>0.970516</td>\n",
       "      <td>0.006697</td>\n",
       "      <td>0.003665</td>\n",
       "      <td>0.941900</td>\n",
       "      <td>0.999166</td>\n",
       "      <td>SEKER</td>\n",
       "    </tr>\n",
       "  </tbody>\n",
       "</table>\n",
       "</div>"
      ],
      "text/plain": [
       "    Area  Perimeter  MajorAxisLength  MinorAxisLength  AspectRation  \\\n",
       "0  28395    610.291       208.178117       173.888747      1.197191   \n",
       "1  28734    638.018       200.524796       182.734419      1.097356   \n",
       "2  29380    624.110       212.826130       175.931143      1.209713   \n",
       "3  30008    645.884       210.557999       182.516516      1.153638   \n",
       "4  30140    620.134       201.847882       190.279279      1.060798   \n",
       "\n",
       "   Eccentricity  ConvexArea  EquivDiameter    Extent  Solidity  roundness  \\\n",
       "0      0.549812       28715     190.141097  0.763923  0.988856   0.958027   \n",
       "1      0.411785       29172     191.272751  0.783968  0.984986   0.887034   \n",
       "2      0.562727       29690     193.410904  0.778113  0.989559   0.947849   \n",
       "3      0.498616       30724     195.467062  0.782681  0.976696   0.903936   \n",
       "4      0.333680       30417     195.896503  0.773098  0.990893   0.984877   \n",
       "\n",
       "   Compactness  ShapeFactor1  ShapeFactor2  ShapeFactor3  ShapeFactor4  Class  \n",
       "0     0.913358      0.007332      0.003147      0.834222      0.998724  SEKER  \n",
       "1     0.953861      0.006979      0.003564      0.909851      0.998430  SEKER  \n",
       "2     0.908774      0.007244      0.003048      0.825871      0.999066  SEKER  \n",
       "3     0.928329      0.007017      0.003215      0.861794      0.994199  SEKER  \n",
       "4     0.970516      0.006697      0.003665      0.941900      0.999166  SEKER  "
      ]
     },
     "execution_count": 4,
     "metadata": {},
     "output_type": "execute_result"
    }
   ],
   "source": [
    "bean_df = pd.read_csv('Resources/Dry_Bean_Dataset.csv')\n",
    "bean_df.head()"
   ]
  },
  {
   "cell_type": "markdown",
   "metadata": {},
   "source": [
    "## Data Pre-Processing"
   ]
  },
  {
   "cell_type": "code",
   "execution_count": 5,
   "metadata": {},
   "outputs": [
    {
     "name": "stdout",
     "output_type": "stream",
     "text": [
      "(13611, 16) (13611,)\n"
     ]
    }
   ],
   "source": [
    "X = bean_df.drop(\"Class\", axis = 1)\n",
    "y = bean_df['Class']\n",
    "print(X.shape, y.shape)"
   ]
  },
  {
   "cell_type": "code",
   "execution_count": 6,
   "metadata": {},
   "outputs": [],
   "source": [
    "from sklearn.model_selection import train_test_split\n",
    "from sklearn.preprocessing import LabelEncoder, MinMaxScaler\n",
    "from tensorflow.keras.utils import to_categorical"
   ]
  },
  {
   "cell_type": "code",
   "execution_count": 7,
   "metadata": {},
   "outputs": [],
   "source": [
    "X_train, X_test, y_train, y_test = train_test_split(X, y, random_state = 1)"
   ]
  },
  {
   "cell_type": "code",
   "execution_count": 8,
   "metadata": {},
   "outputs": [],
   "source": [
    "X_scaler = MinMaxScaler().fit(X_train)\n",
    "X_train_scaled = X_scaler.transform(X_train)\n",
    "X_test_scaled = X_scaler.transform(X_test)"
   ]
  },
  {
   "cell_type": "code",
   "execution_count": 9,
   "metadata": {},
   "outputs": [],
   "source": [
    "# Label-encode data set\n",
    "label_encoder = LabelEncoder()\n",
    "label_encoder.fit(y_train)\n",
    "encoded_y_train = label_encoder.transform(y_train)\n",
    "encoded_y_test = label_encoder.transform(y_test)"
   ]
  },
  {
   "cell_type": "code",
   "execution_count": 10,
   "metadata": {},
   "outputs": [],
   "source": [
    "# One-hot-encode the encoded labels\n",
    "y_train_categorical = to_categorical(encoded_y_train)\n",
    "y_test_categorical = to_categorical(encoded_y_test)"
   ]
  },
  {
   "cell_type": "markdown",
   "metadata": {},
   "source": [
    "## Create Neural Network Model - Adam Optimizer"
   ]
  },
  {
   "cell_type": "code",
   "execution_count": 11,
   "metadata": {},
   "outputs": [],
   "source": [
    "from tensorflow.keras.models import Sequential\n",
    "from tensorflow.keras.layers import Dense"
   ]
  },
  {
   "cell_type": "code",
   "execution_count": 12,
   "metadata": {
    "scrolled": true
   },
   "outputs": [
    {
     "name": "stdout",
     "output_type": "stream",
     "text": [
      "WARNING:tensorflow:From C:\\Users\\luisg\\anaconda3\\envs\\PythonData\\lib\\site-packages\\tensorflow\\python\\ops\\init_ops.py:1251: calling VarianceScaling.__init__ (from tensorflow.python.ops.init_ops) with dtype is deprecated and will be removed in a future version.\n",
      "Instructions for updating:\n",
      "Call initializer instance with the dtype argument instead of passing it to the constructor\n"
     ]
    }
   ],
   "source": [
    "# Create model and add layers\n",
    "adam = Sequential()\n",
    "adam.add(Dense(units = 14, activation = 'relu', input_dim = 16))\n",
    "adam.add(Dense(units = 7, activation = 'softmax'))"
   ]
  },
  {
   "cell_type": "code",
   "execution_count": 13,
   "metadata": {},
   "outputs": [],
   "source": [
    "# Compile and fit the model\n",
    "adam.compile(optimizer = 'adam',\n",
    "              loss = 'categorical_crossentropy',\n",
    "              metrics = ['accuracy'])"
   ]
  },
  {
   "cell_type": "code",
   "execution_count": 14,
   "metadata": {
    "scrolled": true
   },
   "outputs": [
    {
     "name": "stdout",
     "output_type": "stream",
     "text": [
      "Model: \"sequential\"\n",
      "_________________________________________________________________\n",
      "Layer (type)                 Output Shape              Param #   \n",
      "=================================================================\n",
      "dense (Dense)                (None, 14)                238       \n",
      "_________________________________________________________________\n",
      "dense_1 (Dense)              (None, 7)                 105       \n",
      "=================================================================\n",
      "Total params: 343\n",
      "Trainable params: 343\n",
      "Non-trainable params: 0\n",
      "_________________________________________________________________\n"
     ]
    }
   ],
   "source": [
    "adam.summary()"
   ]
  },
  {
   "cell_type": "code",
   "execution_count": 15,
   "metadata": {},
   "outputs": [
    {
     "name": "stdout",
     "output_type": "stream",
     "text": [
      "Epoch 1/50\n",
      "10208/10208 - 0s - loss: 1.6630 - acc: 0.3752\n",
      "Epoch 2/50\n",
      "10208/10208 - 0s - loss: 1.1965 - acc: 0.5693\n",
      "Epoch 3/50\n",
      "10208/10208 - 0s - loss: 0.8710 - acc: 0.7455\n",
      "Epoch 4/50\n",
      "10208/10208 - 0s - loss: 0.6470 - acc: 0.8468\n",
      "Epoch 5/50\n",
      "10208/10208 - 0s - loss: 0.5190 - acc: 0.8673\n",
      "Epoch 6/50\n",
      "10208/10208 - 0s - loss: 0.4429 - acc: 0.8790\n",
      "Epoch 7/50\n",
      "10208/10208 - 0s - loss: 0.3947 - acc: 0.8841\n",
      "Epoch 8/50\n",
      "10208/10208 - 0s - loss: 0.3637 - acc: 0.8878\n",
      "Epoch 9/50\n",
      "10208/10208 - 0s - loss: 0.3425 - acc: 0.8900\n",
      "Epoch 10/50\n",
      "10208/10208 - 0s - loss: 0.3275 - acc: 0.8901\n",
      "Epoch 11/50\n",
      "10208/10208 - 0s - loss: 0.3160 - acc: 0.8922\n",
      "Epoch 12/50\n",
      "10208/10208 - 0s - loss: 0.3059 - acc: 0.8944\n",
      "Epoch 13/50\n",
      "10208/10208 - 0s - loss: 0.2997 - acc: 0.8954\n",
      "Epoch 14/50\n",
      "10208/10208 - 0s - loss: 0.2937 - acc: 0.8945\n",
      "Epoch 15/50\n",
      "10208/10208 - 0s - loss: 0.2881 - acc: 0.8976\n",
      "Epoch 16/50\n",
      "10208/10208 - 0s - loss: 0.2828 - acc: 0.8995\n",
      "Epoch 17/50\n",
      "10208/10208 - 0s - loss: 0.2788 - acc: 0.9008\n",
      "Epoch 18/50\n",
      "10208/10208 - 0s - loss: 0.2758 - acc: 0.9017\n",
      "Epoch 19/50\n",
      "10208/10208 - 0s - loss: 0.2724 - acc: 0.9027\n",
      "Epoch 20/50\n",
      "10208/10208 - 0s - loss: 0.2705 - acc: 0.9040\n",
      "Epoch 21/50\n",
      "10208/10208 - 0s - loss: 0.2657 - acc: 0.9041\n",
      "Epoch 22/50\n",
      "10208/10208 - 0s - loss: 0.2642 - acc: 0.9054\n",
      "Epoch 23/50\n",
      "10208/10208 - 0s - loss: 0.2615 - acc: 0.9062\n",
      "Epoch 24/50\n",
      "10208/10208 - 0s - loss: 0.2594 - acc: 0.9073\n",
      "Epoch 25/50\n",
      "10208/10208 - 0s - loss: 0.2571 - acc: 0.9088\n",
      "Epoch 26/50\n",
      "10208/10208 - 0s - loss: 0.2559 - acc: 0.9086\n",
      "Epoch 27/50\n",
      "10208/10208 - 0s - loss: 0.2541 - acc: 0.9082\n",
      "Epoch 28/50\n",
      "10208/10208 - 0s - loss: 0.2521 - acc: 0.9098\n",
      "Epoch 29/50\n",
      "10208/10208 - 0s - loss: 0.2514 - acc: 0.9088\n",
      "Epoch 30/50\n",
      "10208/10208 - 0s - loss: 0.2495 - acc: 0.9102\n",
      "Epoch 31/50\n",
      "10208/10208 - 0s - loss: 0.2474 - acc: 0.9126\n",
      "Epoch 32/50\n",
      "10208/10208 - 0s - loss: 0.2471 - acc: 0.9107\n",
      "Epoch 33/50\n",
      "10208/10208 - 0s - loss: 0.2459 - acc: 0.9115\n",
      "Epoch 34/50\n",
      "10208/10208 - 0s - loss: 0.2444 - acc: 0.9121\n",
      "Epoch 35/50\n",
      "10208/10208 - 0s - loss: 0.2433 - acc: 0.9125\n",
      "Epoch 36/50\n",
      "10208/10208 - 0s - loss: 0.2425 - acc: 0.9131\n",
      "Epoch 37/50\n",
      "10208/10208 - 0s - loss: 0.2421 - acc: 0.9130\n",
      "Epoch 38/50\n",
      "10208/10208 - 0s - loss: 0.2417 - acc: 0.9124\n",
      "Epoch 39/50\n",
      "10208/10208 - 0s - loss: 0.2405 - acc: 0.9127\n",
      "Epoch 40/50\n",
      "10208/10208 - 0s - loss: 0.2395 - acc: 0.9154\n",
      "Epoch 41/50\n",
      "10208/10208 - 0s - loss: 0.2385 - acc: 0.9136\n",
      "Epoch 42/50\n",
      "10208/10208 - 0s - loss: 0.2379 - acc: 0.9138\n",
      "Epoch 43/50\n",
      "10208/10208 - 0s - loss: 0.2380 - acc: 0.9156\n",
      "Epoch 44/50\n",
      "10208/10208 - 0s - loss: 0.2376 - acc: 0.9154\n",
      "Epoch 45/50\n",
      "10208/10208 - 0s - loss: 0.2368 - acc: 0.9136\n",
      "Epoch 46/50\n",
      "10208/10208 - 0s - loss: 0.2358 - acc: 0.9145\n",
      "Epoch 47/50\n",
      "10208/10208 - 0s - loss: 0.2352 - acc: 0.9153\n",
      "Epoch 48/50\n",
      "10208/10208 - 0s - loss: 0.2347 - acc: 0.9156\n",
      "Epoch 49/50\n",
      "10208/10208 - 0s - loss: 0.2349 - acc: 0.9154\n",
      "Epoch 50/50\n",
      "10208/10208 - 0s - loss: 0.2333 - acc: 0.9162\n"
     ]
    }
   ],
   "source": [
    "history = adam.fit(\n",
    "    X_train_scaled,\n",
    "    y_train_categorical,\n",
    "    epochs = 50,\n",
    "    shuffle = True,\n",
    "    verbose = 2\n",
    ")"
   ]
  },
  {
   "cell_type": "code",
   "execution_count": 16,
   "metadata": {},
   "outputs": [],
   "source": [
    "adam_losses = history.history['loss']\n",
    "adam_accs = history.history['acc']"
   ]
  },
  {
   "cell_type": "code",
   "execution_count": 17,
   "metadata": {},
   "outputs": [
    {
     "name": "stdout",
     "output_type": "stream",
     "text": [
      "3403/3403 - 0s - loss: 0.2339 - acc: 0.9195\n",
      "Neural Network with Adam Optimizer - Loss: 0.23392282210699852, Accuracy: 0.9194828271865845\n"
     ]
    }
   ],
   "source": [
    "# Quantify Adam Model \n",
    "adam_loss, adam_acc = adam.evaluate(\n",
    "    X_test_scaled, y_test_categorical, verbose = 2)\n",
    "print(\n",
    "    f\"Neural Network with Adam Optimizer - Loss: {adam_loss}, Accuracy: {adam_acc}\")"
   ]
  },
  {
   "cell_type": "markdown",
   "metadata": {},
   "source": [
    "## Nadam Optimizer"
   ]
  },
  {
   "cell_type": "code",
   "execution_count": 18,
   "metadata": {
    "scrolled": true
   },
   "outputs": [],
   "source": [
    "# Create model and add layers\n",
    "nadam = Sequential()\n",
    "nadam.add(Dense(units = 14, activation = 'relu', input_dim = 16))\n",
    "nadam.add(Dense(units = 7, activation = 'softmax'))"
   ]
  },
  {
   "cell_type": "code",
   "execution_count": 19,
   "metadata": {},
   "outputs": [],
   "source": [
    "# Compile and fit the model\n",
    "nadam.compile(optimizer = 'nadam',\n",
    "              loss = 'categorical_crossentropy',\n",
    "              metrics = ['accuracy'])"
   ]
  },
  {
   "cell_type": "code",
   "execution_count": 20,
   "metadata": {},
   "outputs": [
    {
     "name": "stdout",
     "output_type": "stream",
     "text": [
      "Epoch 1/50\n",
      "10208/10208 - 0s - loss: 1.6525 - acc: 0.3610\n",
      "Epoch 2/50\n",
      "10208/10208 - 0s - loss: 1.0962 - acc: 0.6563\n",
      "Epoch 3/50\n",
      "10208/10208 - 0s - loss: 0.7745 - acc: 0.8020\n",
      "Epoch 4/50\n",
      "10208/10208 - 0s - loss: 0.6046 - acc: 0.8539\n",
      "Epoch 5/50\n",
      "10208/10208 - 0s - loss: 0.5047 - acc: 0.8703\n",
      "Epoch 6/50\n",
      "10208/10208 - 0s - loss: 0.4421 - acc: 0.8768\n",
      "Epoch 7/50\n",
      "10208/10208 - 0s - loss: 0.4013 - acc: 0.8802\n",
      "Epoch 8/50\n",
      "10208/10208 - 0s - loss: 0.3733 - acc: 0.8806\n",
      "Epoch 9/50\n",
      "10208/10208 - 0s - loss: 0.3532 - acc: 0.8835\n",
      "Epoch 10/50\n",
      "10208/10208 - 0s - loss: 0.3388 - acc: 0.8856\n",
      "Epoch 11/50\n",
      "10208/10208 - 0s - loss: 0.3273 - acc: 0.8869\n",
      "Epoch 12/50\n",
      "10208/10208 - 0s - loss: 0.3177 - acc: 0.8907\n",
      "Epoch 13/50\n",
      "10208/10208 - 0s - loss: 0.3109 - acc: 0.8905\n",
      "Epoch 14/50\n",
      "10208/10208 - 0s - loss: 0.3046 - acc: 0.8922\n",
      "Epoch 15/50\n",
      "10208/10208 - 0s - loss: 0.2990 - acc: 0.8934\n",
      "Epoch 16/50\n",
      "10208/10208 - 0s - loss: 0.2945 - acc: 0.8958\n",
      "Epoch 17/50\n",
      "10208/10208 - 0s - loss: 0.2904 - acc: 0.8954\n",
      "Epoch 18/50\n",
      "10208/10208 - 0s - loss: 0.2864 - acc: 0.8972\n",
      "Epoch 19/50\n",
      "10208/10208 - 0s - loss: 0.2831 - acc: 0.9011\n",
      "Epoch 20/50\n",
      "10208/10208 - 0s - loss: 0.2795 - acc: 0.8995\n",
      "Epoch 21/50\n",
      "10208/10208 - 0s - loss: 0.2773 - acc: 0.9008\n",
      "Epoch 22/50\n",
      "10208/10208 - 0s - loss: 0.2743 - acc: 0.9020\n",
      "Epoch 23/50\n",
      "10208/10208 - 0s - loss: 0.2720 - acc: 0.9055\n",
      "Epoch 24/50\n",
      "10208/10208 - 0s - loss: 0.2696 - acc: 0.9049\n",
      "Epoch 25/50\n",
      "10208/10208 - 0s - loss: 0.2675 - acc: 0.9055\n",
      "Epoch 26/50\n",
      "10208/10208 - 0s - loss: 0.2651 - acc: 0.9045\n",
      "Epoch 27/50\n",
      "10208/10208 - 0s - loss: 0.2640 - acc: 0.9059\n",
      "Epoch 28/50\n",
      "10208/10208 - 0s - loss: 0.2609 - acc: 0.9073\n",
      "Epoch 29/50\n",
      "10208/10208 - 0s - loss: 0.2600 - acc: 0.9085\n",
      "Epoch 30/50\n",
      "10208/10208 - 0s - loss: 0.2578 - acc: 0.9082\n",
      "Epoch 31/50\n",
      "10208/10208 - 0s - loss: 0.2564 - acc: 0.9087\n",
      "Epoch 32/50\n",
      "10208/10208 - 0s - loss: 0.2558 - acc: 0.9110\n",
      "Epoch 33/50\n",
      "10208/10208 - 0s - loss: 0.2537 - acc: 0.9100\n",
      "Epoch 34/50\n",
      "10208/10208 - 0s - loss: 0.2529 - acc: 0.9095\n",
      "Epoch 35/50\n",
      "10208/10208 - 0s - loss: 0.2517 - acc: 0.9101\n",
      "Epoch 36/50\n",
      "10208/10208 - 0s - loss: 0.2501 - acc: 0.9098\n",
      "Epoch 37/50\n",
      "10208/10208 - 0s - loss: 0.2497 - acc: 0.9120\n",
      "Epoch 38/50\n",
      "10208/10208 - 0s - loss: 0.2489 - acc: 0.9123\n",
      "Epoch 39/50\n",
      "10208/10208 - 0s - loss: 0.2472 - acc: 0.9124\n",
      "Epoch 40/50\n",
      "10208/10208 - 0s - loss: 0.2464 - acc: 0.9135\n",
      "Epoch 41/50\n",
      "10208/10208 - 0s - loss: 0.2456 - acc: 0.9121\n",
      "Epoch 42/50\n",
      "10208/10208 - 0s - loss: 0.2442 - acc: 0.9133\n",
      "Epoch 43/50\n",
      "10208/10208 - 0s - loss: 0.2442 - acc: 0.9138\n",
      "Epoch 44/50\n",
      "10208/10208 - 0s - loss: 0.2432 - acc: 0.9130\n",
      "Epoch 45/50\n",
      "10208/10208 - 0s - loss: 0.2429 - acc: 0.9145\n",
      "Epoch 46/50\n",
      "10208/10208 - 0s - loss: 0.2414 - acc: 0.9149\n",
      "Epoch 47/50\n",
      "10208/10208 - 0s - loss: 0.2408 - acc: 0.9146\n",
      "Epoch 48/50\n",
      "10208/10208 - 0s - loss: 0.2409 - acc: 0.9153\n",
      "Epoch 49/50\n",
      "10208/10208 - 0s - loss: 0.2400 - acc: 0.9159\n",
      "Epoch 50/50\n",
      "10208/10208 - 0s - loss: 0.2396 - acc: 0.9157\n"
     ]
    }
   ],
   "source": [
    "history = nadam.fit(\n",
    "    X_train_scaled,\n",
    "    y_train_categorical,\n",
    "    epochs = 50,\n",
    "    shuffle = True,\n",
    "    verbose = 2\n",
    ")"
   ]
  },
  {
   "cell_type": "code",
   "execution_count": 21,
   "metadata": {},
   "outputs": [],
   "source": [
    "nadam_losses = history.history['loss']\n",
    "nadam_accs = history.history['acc']"
   ]
  },
  {
   "cell_type": "code",
   "execution_count": 22,
   "metadata": {},
   "outputs": [
    {
     "name": "stdout",
     "output_type": "stream",
     "text": [
      "3403/3403 - 0s - loss: 0.2357 - acc: 0.9168\n",
      "Neural Network with Nadam Optimizer - Loss: 0.23569245643469294, Accuracy: 0.9168381094932556\n"
     ]
    }
   ],
   "source": [
    "# Quantify Nadam Model \n",
    "nadam_loss, nadam_acc = nadam.evaluate(\n",
    "    X_test_scaled, y_test_categorical, verbose = 2)\n",
    "print(\n",
    "    f\"Neural Network with Nadam Optimizer - Loss: {nadam_loss}, Accuracy: {nadam_acc}\")"
   ]
  },
  {
   "cell_type": "markdown",
   "metadata": {},
   "source": [
    "## RMSProp Optimizer"
   ]
  },
  {
   "cell_type": "code",
   "execution_count": 23,
   "metadata": {
    "scrolled": true
   },
   "outputs": [],
   "source": [
    "# Create model and add layers\n",
    "rmsprop = Sequential()\n",
    "rmsprop.add(Dense(units = 14, activation = 'relu', input_dim = 16))\n",
    "rmsprop.add(Dense(units = 7, activation = 'softmax'))"
   ]
  },
  {
   "cell_type": "code",
   "execution_count": 24,
   "metadata": {},
   "outputs": [],
   "source": [
    "# Compile and fit the model\n",
    "rmsprop.compile(optimizer = 'rmsprop',\n",
    "              loss = 'categorical_crossentropy',\n",
    "              metrics = ['accuracy'])"
   ]
  },
  {
   "cell_type": "code",
   "execution_count": 25,
   "metadata": {},
   "outputs": [
    {
     "name": "stdout",
     "output_type": "stream",
     "text": [
      "Epoch 1/50\n",
      "10208/10208 - 0s - loss: 1.7578 - acc: 0.2577\n",
      "Epoch 2/50\n",
      "10208/10208 - 0s - loss: 1.4386 - acc: 0.4352\n",
      "Epoch 3/50\n",
      "10208/10208 - 0s - loss: 1.1197 - acc: 0.5941\n",
      "Epoch 4/50\n",
      "10208/10208 - 0s - loss: 0.8540 - acc: 0.7528\n",
      "Epoch 5/50\n",
      "10208/10208 - 0s - loss: 0.6678 - acc: 0.8424\n",
      "Epoch 6/50\n",
      "10208/10208 - 0s - loss: 0.5485 - acc: 0.8720\n",
      "Epoch 7/50\n",
      "10208/10208 - 0s - loss: 0.4722 - acc: 0.8797\n",
      "Epoch 8/50\n",
      "10208/10208 - 0s - loss: 0.4236 - acc: 0.8852\n",
      "Epoch 9/50\n",
      "10208/10208 - 0s - loss: 0.3913 - acc: 0.8854\n",
      "Epoch 10/50\n",
      "10208/10208 - 0s - loss: 0.3692 - acc: 0.8859\n",
      "Epoch 11/50\n",
      "10208/10208 - 0s - loss: 0.3526 - acc: 0.8849\n",
      "Epoch 12/50\n",
      "10208/10208 - 0s - loss: 0.3407 - acc: 0.8867\n",
      "Epoch 13/50\n",
      "10208/10208 - 0s - loss: 0.3313 - acc: 0.8878\n",
      "Epoch 14/50\n",
      "10208/10208 - 0s - loss: 0.3230 - acc: 0.8908\n",
      "Epoch 15/50\n",
      "10208/10208 - 0s - loss: 0.3180 - acc: 0.8903\n",
      "Epoch 16/50\n",
      "10208/10208 - 0s - loss: 0.3121 - acc: 0.8889\n",
      "Epoch 17/50\n",
      "10208/10208 - 0s - loss: 0.3077 - acc: 0.8909\n",
      "Epoch 18/50\n",
      "10208/10208 - 0s - loss: 0.3042 - acc: 0.8928\n",
      "Epoch 19/50\n",
      "10208/10208 - 0s - loss: 0.3000 - acc: 0.8931\n",
      "Epoch 20/50\n",
      "10208/10208 - 0s - loss: 0.2978 - acc: 0.8923\n",
      "Epoch 21/50\n",
      "10208/10208 - 0s - loss: 0.2945 - acc: 0.8941\n",
      "Epoch 22/50\n",
      "10208/10208 - 0s - loss: 0.2919 - acc: 0.8958\n",
      "Epoch 23/50\n",
      "10208/10208 - 0s - loss: 0.2897 - acc: 0.8943\n",
      "Epoch 24/50\n",
      "10208/10208 - 0s - loss: 0.2875 - acc: 0.8966\n",
      "Epoch 25/50\n",
      "10208/10208 - 0s - loss: 0.2857 - acc: 0.8975\n",
      "Epoch 26/50\n",
      "10208/10208 - 0s - loss: 0.2835 - acc: 0.8965\n",
      "Epoch 27/50\n",
      "10208/10208 - 0s - loss: 0.2813 - acc: 0.8986\n",
      "Epoch 28/50\n",
      "10208/10208 - 0s - loss: 0.2798 - acc: 0.8990\n",
      "Epoch 29/50\n",
      "10208/10208 - 0s - loss: 0.2778 - acc: 0.8994\n",
      "Epoch 30/50\n",
      "10208/10208 - 0s - loss: 0.2769 - acc: 0.9010\n",
      "Epoch 31/50\n",
      "10208/10208 - 0s - loss: 0.2749 - acc: 0.9018\n",
      "Epoch 32/50\n",
      "10208/10208 - 0s - loss: 0.2732 - acc: 0.9014\n",
      "Epoch 33/50\n",
      "10208/10208 - 0s - loss: 0.2715 - acc: 0.9036\n",
      "Epoch 34/50\n",
      "10208/10208 - 0s - loss: 0.2700 - acc: 0.9035\n",
      "Epoch 35/50\n",
      "10208/10208 - 0s - loss: 0.2686 - acc: 0.9037\n",
      "Epoch 36/50\n",
      "10208/10208 - 0s - loss: 0.2670 - acc: 0.9038\n",
      "Epoch 37/50\n",
      "10208/10208 - 0s - loss: 0.2657 - acc: 0.9066\n",
      "Epoch 38/50\n",
      "10208/10208 - 0s - loss: 0.2647 - acc: 0.9062\n",
      "Epoch 39/50\n",
      "10208/10208 - 0s - loss: 0.2633 - acc: 0.9054\n",
      "Epoch 40/50\n",
      "10208/10208 - 0s - loss: 0.2620 - acc: 0.9059\n",
      "Epoch 41/50\n",
      "10208/10208 - 0s - loss: 0.2611 - acc: 0.9070\n",
      "Epoch 42/50\n",
      "10208/10208 - 0s - loss: 0.2601 - acc: 0.9068\n",
      "Epoch 43/50\n",
      "10208/10208 - 0s - loss: 0.2587 - acc: 0.9070\n",
      "Epoch 44/50\n",
      "10208/10208 - 0s - loss: 0.2581 - acc: 0.9083\n",
      "Epoch 45/50\n",
      "10208/10208 - 0s - loss: 0.2566 - acc: 0.9091\n",
      "Epoch 46/50\n",
      "10208/10208 - 0s - loss: 0.2557 - acc: 0.9081\n",
      "Epoch 47/50\n",
      "10208/10208 - 0s - loss: 0.2549 - acc: 0.9102\n",
      "Epoch 48/50\n",
      "10208/10208 - 0s - loss: 0.2536 - acc: 0.9098\n",
      "Epoch 49/50\n",
      "10208/10208 - 0s - loss: 0.2533 - acc: 0.9096\n",
      "Epoch 50/50\n",
      "10208/10208 - 0s - loss: 0.2523 - acc: 0.9105\n"
     ]
    }
   ],
   "source": [
    "history = rmsprop.fit(\n",
    "    X_train_scaled,\n",
    "    y_train_categorical,\n",
    "    epochs = 50,\n",
    "    shuffle = True,\n",
    "    verbose = 2\n",
    ")"
   ]
  },
  {
   "cell_type": "code",
   "execution_count": 26,
   "metadata": {},
   "outputs": [],
   "source": [
    "rmsprop_losses = history.history['loss']\n",
    "rmsprop_accs = history.history['acc']"
   ]
  },
  {
   "cell_type": "code",
   "execution_count": 27,
   "metadata": {},
   "outputs": [
    {
     "name": "stdout",
     "output_type": "stream",
     "text": [
      "3403/3403 - 0s - loss: 0.2572 - acc: 0.9092\n",
      "Neural Network with RMSProp Optimizer - Loss: 0.2571657390834267, Accuracy: 0.9091977477073669\n"
     ]
    }
   ],
   "source": [
    "# Quantify RMSProp Model \n",
    "rmsprop_loss, rmsprop_acc = rmsprop.evaluate(\n",
    "    X_test_scaled, y_test_categorical, verbose = 2)\n",
    "print(\n",
    "    f\"Neural Network with RMSProp Optimizer - Loss: {rmsprop_loss}, Accuracy: {rmsprop_acc}\") "
   ]
  },
  {
   "cell_type": "markdown",
   "metadata": {},
   "source": [
    "## SGD Optimizer"
   ]
  },
  {
   "cell_type": "code",
   "execution_count": 28,
   "metadata": {
    "scrolled": true
   },
   "outputs": [],
   "source": [
    "# Create model and add layers\n",
    "sgd = Sequential()\n",
    "sgd.add(Dense(units = 14, activation = 'relu', input_dim = 16))\n",
    "sgd.add(Dense(units = 7, activation = 'softmax'))"
   ]
  },
  {
   "cell_type": "code",
   "execution_count": 29,
   "metadata": {},
   "outputs": [],
   "source": [
    "# Compile and fit the model\n",
    "sgd.compile(optimizer = 'sgd',\n",
    "              loss = 'categorical_crossentropy',\n",
    "              metrics = ['accuracy'])"
   ]
  },
  {
   "cell_type": "code",
   "execution_count": 30,
   "metadata": {},
   "outputs": [
    {
     "name": "stdout",
     "output_type": "stream",
     "text": [
      "Epoch 1/50\n",
      "10208/10208 - 0s - loss: 1.8590 - acc: 0.1825\n",
      "Epoch 2/50\n",
      "10208/10208 - 0s - loss: 1.7583 - acc: 0.2618\n",
      "Epoch 3/50\n",
      "10208/10208 - 0s - loss: 1.6804 - acc: 0.2621\n",
      "Epoch 4/50\n",
      "10208/10208 - 0s - loss: 1.5980 - acc: 0.2667\n",
      "Epoch 5/50\n",
      "10208/10208 - 0s - loss: 1.5048 - acc: 0.3005\n",
      "Epoch 6/50\n",
      "10208/10208 - 0s - loss: 1.4006 - acc: 0.3971\n",
      "Epoch 7/50\n",
      "10208/10208 - 0s - loss: 1.2912 - acc: 0.4368\n",
      "Epoch 8/50\n",
      "10208/10208 - 0s - loss: 1.1876 - acc: 0.5031\n",
      "Epoch 9/50\n",
      "10208/10208 - 0s - loss: 1.0949 - acc: 0.5842\n",
      "Epoch 10/50\n",
      "10208/10208 - 0s - loss: 1.0146 - acc: 0.6388\n",
      "Epoch 11/50\n",
      "10208/10208 - 0s - loss: 0.9454 - acc: 0.6799\n",
      "Epoch 12/50\n",
      "10208/10208 - 0s - loss: 0.8864 - acc: 0.7149\n",
      "Epoch 13/50\n",
      "10208/10208 - 0s - loss: 0.8356 - acc: 0.7403\n",
      "Epoch 14/50\n",
      "10208/10208 - 0s - loss: 0.7920 - acc: 0.7613\n",
      "Epoch 15/50\n",
      "10208/10208 - 0s - loss: 0.7538 - acc: 0.7788\n",
      "Epoch 16/50\n",
      "10208/10208 - 0s - loss: 0.7201 - acc: 0.7904\n",
      "Epoch 17/50\n",
      "10208/10208 - 0s - loss: 0.6903 - acc: 0.8018\n",
      "Epoch 18/50\n",
      "10208/10208 - 0s - loss: 0.6635 - acc: 0.8072\n",
      "Epoch 19/50\n",
      "10208/10208 - 0s - loss: 0.6393 - acc: 0.8148\n",
      "Epoch 20/50\n",
      "10208/10208 - 0s - loss: 0.6173 - acc: 0.8197\n",
      "Epoch 21/50\n",
      "10208/10208 - 0s - loss: 0.5973 - acc: 0.8230\n",
      "Epoch 22/50\n",
      "10208/10208 - 0s - loss: 0.5789 - acc: 0.8281\n",
      "Epoch 23/50\n",
      "10208/10208 - 0s - loss: 0.5621 - acc: 0.8294\n",
      "Epoch 24/50\n",
      "10208/10208 - 0s - loss: 0.5465 - acc: 0.8333\n",
      "Epoch 25/50\n",
      "10208/10208 - 0s - loss: 0.5320 - acc: 0.8351\n",
      "Epoch 26/50\n",
      "10208/10208 - 0s - loss: 0.5186 - acc: 0.8441\n",
      "Epoch 27/50\n",
      "10208/10208 - 0s - loss: 0.5062 - acc: 0.8566\n",
      "Epoch 28/50\n",
      "10208/10208 - 0s - loss: 0.4945 - acc: 0.8620\n",
      "Epoch 29/50\n",
      "10208/10208 - 0s - loss: 0.4838 - acc: 0.8660\n",
      "Epoch 30/50\n",
      "10208/10208 - 0s - loss: 0.4736 - acc: 0.8671\n",
      "Epoch 31/50\n",
      "10208/10208 - 0s - loss: 0.4643 - acc: 0.8682\n",
      "Epoch 32/50\n",
      "10208/10208 - 0s - loss: 0.4550 - acc: 0.8727\n",
      "Epoch 33/50\n",
      "10208/10208 - 0s - loss: 0.4468 - acc: 0.8746\n",
      "Epoch 34/50\n",
      "10208/10208 - 0s - loss: 0.4390 - acc: 0.8762\n",
      "Epoch 35/50\n",
      "10208/10208 - 0s - loss: 0.4315 - acc: 0.8778\n",
      "Epoch 36/50\n",
      "10208/10208 - 0s - loss: 0.4247 - acc: 0.8786\n",
      "Epoch 37/50\n",
      "10208/10208 - 0s - loss: 0.4178 - acc: 0.8780\n",
      "Epoch 38/50\n",
      "10208/10208 - 0s - loss: 0.4117 - acc: 0.8802\n",
      "Epoch 39/50\n",
      "10208/10208 - 0s - loss: 0.4058 - acc: 0.8821\n",
      "Epoch 40/50\n",
      "10208/10208 - 0s - loss: 0.4002 - acc: 0.8834\n",
      "Epoch 41/50\n",
      "10208/10208 - 0s - loss: 0.3952 - acc: 0.8833\n",
      "Epoch 42/50\n",
      "10208/10208 - 0s - loss: 0.3900 - acc: 0.8849\n",
      "Epoch 43/50\n",
      "10208/10208 - 0s - loss: 0.3850 - acc: 0.8848\n",
      "Epoch 44/50\n",
      "10208/10208 - 0s - loss: 0.3805 - acc: 0.8840\n",
      "Epoch 45/50\n",
      "10208/10208 - 0s - loss: 0.3763 - acc: 0.8853\n",
      "Epoch 46/50\n",
      "10208/10208 - 0s - loss: 0.3723 - acc: 0.8875\n",
      "Epoch 47/50\n",
      "10208/10208 - 0s - loss: 0.3683 - acc: 0.8871\n",
      "Epoch 48/50\n",
      "10208/10208 - 0s - loss: 0.3647 - acc: 0.8867\n",
      "Epoch 49/50\n",
      "10208/10208 - 0s - loss: 0.3609 - acc: 0.8882\n",
      "Epoch 50/50\n",
      "10208/10208 - 0s - loss: 0.3576 - acc: 0.8884\n"
     ]
    }
   ],
   "source": [
    "history = sgd.fit(\n",
    "    X_train_scaled,\n",
    "    y_train_categorical,\n",
    "    epochs = 50,\n",
    "    shuffle = True,\n",
    "    verbose = 2\n",
    ")"
   ]
  },
  {
   "cell_type": "code",
   "execution_count": 31,
   "metadata": {},
   "outputs": [],
   "source": [
    "sgd_losses = history.history['loss']\n",
    "sgd_accs = history.history['acc']"
   ]
  },
  {
   "cell_type": "code",
   "execution_count": 32,
   "metadata": {},
   "outputs": [
    {
     "name": "stdout",
     "output_type": "stream",
     "text": [
      "3403/3403 - 0s - loss: 0.3581 - acc: 0.8895\n",
      "Neural Network with SGD Optimizer - Loss: 0.35812340130744313, Accuracy: 0.8895092606544495\n"
     ]
    }
   ],
   "source": [
    "# Quantify SGD Model \n",
    "sgd_loss, sgd_acc = sgd.evaluate(\n",
    "    X_test_scaled, y_test_categorical, verbose = 2)\n",
    "print(\n",
    "    f\"Neural Network with SGD Optimizer - Loss: {sgd_loss}, Accuracy: {sgd_acc}\")"
   ]
  },
  {
   "cell_type": "markdown",
   "metadata": {},
   "source": [
    "## Tabulate model accuracies and losses and graph performance"
   ]
  },
  {
   "cell_type": "code",
   "execution_count": 34,
   "metadata": {},
   "outputs": [
    {
     "data": {
      "text/html": [
       "<div>\n",
       "<style scoped>\n",
       "    .dataframe tbody tr th:only-of-type {\n",
       "        vertical-align: middle;\n",
       "    }\n",
       "\n",
       "    .dataframe tbody tr th {\n",
       "        vertical-align: top;\n",
       "    }\n",
       "\n",
       "    .dataframe thead th {\n",
       "        text-align: right;\n",
       "    }\n",
       "</style>\n",
       "<table border=\"1\" class=\"dataframe\">\n",
       "  <thead>\n",
       "    <tr style=\"text-align: right;\">\n",
       "      <th></th>\n",
       "      <th>Optimizer</th>\n",
       "      <th>Accuracy</th>\n",
       "      <th>Loss</th>\n",
       "    </tr>\n",
       "  </thead>\n",
       "  <tbody>\n",
       "    <tr>\n",
       "      <th>0</th>\n",
       "      <td>Adam</td>\n",
       "      <td>0.919483</td>\n",
       "      <td>0.233923</td>\n",
       "    </tr>\n",
       "    <tr>\n",
       "      <th>1</th>\n",
       "      <td>Nadam</td>\n",
       "      <td>0.916838</td>\n",
       "      <td>0.235692</td>\n",
       "    </tr>\n",
       "    <tr>\n",
       "      <th>2</th>\n",
       "      <td>RMSProp</td>\n",
       "      <td>0.909198</td>\n",
       "      <td>0.257166</td>\n",
       "    </tr>\n",
       "    <tr>\n",
       "      <th>3</th>\n",
       "      <td>SGD</td>\n",
       "      <td>0.889509</td>\n",
       "      <td>0.358123</td>\n",
       "    </tr>\n",
       "  </tbody>\n",
       "</table>\n",
       "</div>"
      ],
      "text/plain": [
       "  Optimizer  Accuracy      Loss\n",
       "0      Adam  0.919483  0.233923\n",
       "1     Nadam  0.916838  0.235692\n",
       "2   RMSProp  0.909198  0.257166\n",
       "3       SGD  0.889509  0.358123"
      ]
     },
     "execution_count": 34,
     "metadata": {},
     "output_type": "execute_result"
    }
   ],
   "source": [
    "# Tabulate\n",
    "optimizer_names = [\"Adam\", \"Nadam\", \"RMSProp\", \"SGD\"]\n",
    "optimizer_accs = [adam_acc, nadam_acc, rmsprop_acc, sgd_acc]\n",
    "optimizer_losses = [adam_loss, nadam_loss, rmsprop_loss, sgd_loss]\n",
    "performance_df = pd.DataFrame({\"Optimizer\": optimizer_names,\n",
    "                               \"Accuracy\": optimizer_accs,\n",
    "                               \"Loss\": optimizer_losses})\n",
    "performance_df"
   ]
  },
  {
   "cell_type": "code",
   "execution_count": 37,
   "metadata": {},
   "outputs": [
    {
     "data": {
      "image/png": "[encoded data removed]",
      "text/plain": [
       "<Figure size 432x288 with 1 Axes>"
      ]
     },
     "metadata": {
      "needs_background": "light"
     },
     "output_type": "display_data"
    }
   ],
   "source": [
    "## Plot model accuracy and loss over epochs\n",
    "\n",
    "import matplotlib.pyplot as plt\n",
    "\n",
    "epochs = range(1,51)\n",
    "plt.plot(epochs, adam_accs, 'green', label = \"Adam optimizer\")\n",
    "plt.plot(epochs, nadam_accs, 'greenyellow', label = \"Nadam optimizer\")\n",
    "plt.plot(epochs, rmsprop_accs, 'yellow', label = \"RMSProp optimizer\")\n",
    "plt.plot(epochs, sgd_accs, 'coral', label = \"SGD optimizer\")\n",
    "plt.xlabel(\"Epoch\")\n",
    "plt.ylabel(\"Model accuracy\")\n",
    "plt.title(\"Accuracy of different Neural Network optimizers vs. epochs ran\")\n",
    "plt.legend()\n",
    "plt.savefig(\"optimizer_accuracy.png\")\n",
    "plt.show()"
   ]
  },
  {
   "cell_type": "code",
   "execution_count": 38,
   "metadata": {},
   "outputs": [
    {
     "data": {
      "image/png": "[encoded data removed]",
      "text/plain": [
       "<Figure size 432x288 with 1 Axes>"
      ]
     },
     "metadata": {
      "needs_background": "light"
     },
     "output_type": "display_data"
    }
   ],
   "source": [
    "plt.plot(epochs, adam_losses, 'green', label = \"Adam optimizer\")\n",
    "plt.plot(epochs, nadam_losses, 'greenyellow', label = \"Nadam optimizer\")\n",
    "plt.plot(epochs, rmsprop_losses, 'yellow', label = \"RMSProp optimizer\")\n",
    "plt.plot(epochs, sgd_losses, 'coral', label = \"SGD optimizer\")\n",
    "plt.xlabel(\"Epoch\")\n",
    "plt.ylabel(\"Model loss\")\n",
    "plt.title(\"Loss of different Neural Network optimizers vs. epochs ran\")\n",
    "plt.legend()\n",
    "plt.savefig(\"optimizer_loss.png\")\n",
    "plt.show()"
   ]
  },
  {
   "cell_type": "code",
   "execution_count": null,
   "metadata": {},
   "outputs": [],
   "source": []
  }
 ],
 "metadata": {
  "kernelspec": {
   "display_name": "Python 3",
   "language": "python",
   "name": "python3"
  },
  "language_info": {
   "codemirror_mode": {
    "name": "ipython",
    "version": 3
   },
   "file_extension": ".py",
   "mimetype": "text/x-python",
   "name": "python",
   "nbconvert_exporter": "python",
   "pygments_lexer": "ipython3",
   "version": "3.6.10"
  }
 },
 "nbformat": 4,
 "nbformat_minor": 4
}
