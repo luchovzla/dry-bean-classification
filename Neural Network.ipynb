{
 "cells": [
  {
   "cell_type": "code",
   "execution_count": 1,
   "metadata": {},
   "outputs": [],
   "source": [
    "# Seed for random events\n",
    "from numpy.random import seed\n",
    "seed(1)"
   ]
  },
  {
   "cell_type": "code",
   "execution_count": 2,
   "metadata": {},
   "outputs": [],
   "source": [
    "# Dependencies\n",
    "import numpy as np\n",
    "import pandas as pd"
   ]
  },
  {
   "cell_type": "code",
   "execution_count": 3,
   "metadata": {},
   "outputs": [
    {
     "name": "stderr",
     "output_type": "stream",
     "text": [
      "C:\\Users\\luisg\\anaconda3\\envs\\PythonData\\lib\\site-packages\\tensorflow\\python\\framework\\dtypes.py:516: FutureWarning: Passing (type, 1) or '1type' as a synonym of type is deprecated; in a future version of numpy, it will be understood as (type, (1,)) / '(1,)type'.\n",
      "  _np_qint8 = np.dtype([(\"qint8\", np.int8, 1)])\n",
      "C:\\Users\\luisg\\anaconda3\\envs\\PythonData\\lib\\site-packages\\tensorflow\\python\\framework\\dtypes.py:517: FutureWarning: Passing (type, 1) or '1type' as a synonym of type is deprecated; in a future version of numpy, it will be understood as (type, (1,)) / '(1,)type'.\n",
      "  _np_quint8 = np.dtype([(\"quint8\", np.uint8, 1)])\n",
      "C:\\Users\\luisg\\anaconda3\\envs\\PythonData\\lib\\site-packages\\tensorflow\\python\\framework\\dtypes.py:518: FutureWarning: Passing (type, 1) or '1type' as a synonym of type is deprecated; in a future version of numpy, it will be understood as (type, (1,)) / '(1,)type'.\n",
      "  _np_qint16 = np.dtype([(\"qint16\", np.int16, 1)])\n",
      "C:\\Users\\luisg\\anaconda3\\envs\\PythonData\\lib\\site-packages\\tensorflow\\python\\framework\\dtypes.py:519: FutureWarning: Passing (type, 1) or '1type' as a synonym of type is deprecated; in a future version of numpy, it will be understood as (type, (1,)) / '(1,)type'.\n",
      "  _np_quint16 = np.dtype([(\"quint16\", np.uint16, 1)])\n",
      "C:\\Users\\luisg\\anaconda3\\envs\\PythonData\\lib\\site-packages\\tensorflow\\python\\framework\\dtypes.py:520: FutureWarning: Passing (type, 1) or '1type' as a synonym of type is deprecated; in a future version of numpy, it will be understood as (type, (1,)) / '(1,)type'.\n",
      "  _np_qint32 = np.dtype([(\"qint32\", np.int32, 1)])\n",
      "C:\\Users\\luisg\\anaconda3\\envs\\PythonData\\lib\\site-packages\\tensorflow\\python\\framework\\dtypes.py:525: FutureWarning: Passing (type, 1) or '1type' as a synonym of type is deprecated; in a future version of numpy, it will be understood as (type, (1,)) / '(1,)type'.\n",
      "  np_resource = np.dtype([(\"resource\", np.ubyte, 1)])\n",
      "C:\\Users\\luisg\\anaconda3\\envs\\PythonData\\lib\\site-packages\\tensorboard\\compat\\tensorflow_stub\\dtypes.py:541: FutureWarning: Passing (type, 1) or '1type' as a synonym of type is deprecated; in a future version of numpy, it will be understood as (type, (1,)) / '(1,)type'.\n",
      "  _np_qint8 = np.dtype([(\"qint8\", np.int8, 1)])\n",
      "C:\\Users\\luisg\\anaconda3\\envs\\PythonData\\lib\\site-packages\\tensorboard\\compat\\tensorflow_stub\\dtypes.py:542: FutureWarning: Passing (type, 1) or '1type' as a synonym of type is deprecated; in a future version of numpy, it will be understood as (type, (1,)) / '(1,)type'.\n",
      "  _np_quint8 = np.dtype([(\"quint8\", np.uint8, 1)])\n",
      "C:\\Users\\luisg\\anaconda3\\envs\\PythonData\\lib\\site-packages\\tensorboard\\compat\\tensorflow_stub\\dtypes.py:543: FutureWarning: Passing (type, 1) or '1type' as a synonym of type is deprecated; in a future version of numpy, it will be understood as (type, (1,)) / '(1,)type'.\n",
      "  _np_qint16 = np.dtype([(\"qint16\", np.int16, 1)])\n",
      "C:\\Users\\luisg\\anaconda3\\envs\\PythonData\\lib\\site-packages\\tensorboard\\compat\\tensorflow_stub\\dtypes.py:544: FutureWarning: Passing (type, 1) or '1type' as a synonym of type is deprecated; in a future version of numpy, it will be understood as (type, (1,)) / '(1,)type'.\n",
      "  _np_quint16 = np.dtype([(\"quint16\", np.uint16, 1)])\n",
      "C:\\Users\\luisg\\anaconda3\\envs\\PythonData\\lib\\site-packages\\tensorboard\\compat\\tensorflow_stub\\dtypes.py:545: FutureWarning: Passing (type, 1) or '1type' as a synonym of type is deprecated; in a future version of numpy, it will be understood as (type, (1,)) / '(1,)type'.\n",
      "  _np_qint32 = np.dtype([(\"qint32\", np.int32, 1)])\n",
      "C:\\Users\\luisg\\anaconda3\\envs\\PythonData\\lib\\site-packages\\tensorboard\\compat\\tensorflow_stub\\dtypes.py:550: FutureWarning: Passing (type, 1) or '1type' as a synonym of type is deprecated; in a future version of numpy, it will be understood as (type, (1,)) / '(1,)type'.\n",
      "  np_resource = np.dtype([(\"resource\", np.ubyte, 1)])\n"
     ]
    }
   ],
   "source": [
    "import tensorflow"
   ]
  },
  {
   "cell_type": "code",
   "execution_count": 4,
   "metadata": {},
   "outputs": [
    {
     "data": {
      "text/html": [
       "<div>\n",
       "<style scoped>\n",
       "    .dataframe tbody tr th:only-of-type {\n",
       "        vertical-align: middle;\n",
       "    }\n",
       "\n",
       "    .dataframe tbody tr th {\n",
       "        vertical-align: top;\n",
       "    }\n",
       "\n",
       "    .dataframe thead th {\n",
       "        text-align: right;\n",
       "    }\n",
       "</style>\n",
       "<table border=\"1\" class=\"dataframe\">\n",
       "  <thead>\n",
       "    <tr style=\"text-align: right;\">\n",
       "      <th></th>\n",
       "      <th>Area</th>\n",
       "      <th>Perimeter</th>\n",
       "      <th>MajorAxisLength</th>\n",
       "      <th>MinorAxisLength</th>\n",
       "      <th>AspectRation</th>\n",
       "      <th>Eccentricity</th>\n",
       "      <th>ConvexArea</th>\n",
       "      <th>EquivDiameter</th>\n",
       "      <th>Extent</th>\n",
       "      <th>Solidity</th>\n",
       "      <th>roundness</th>\n",
       "      <th>Compactness</th>\n",
       "      <th>ShapeFactor1</th>\n",
       "      <th>ShapeFactor2</th>\n",
       "      <th>ShapeFactor3</th>\n",
       "      <th>ShapeFactor4</th>\n",
       "      <th>Class</th>\n",
       "    </tr>\n",
       "  </thead>\n",
       "  <tbody>\n",
       "    <tr>\n",
       "      <th>0</th>\n",
       "      <td>28395</td>\n",
       "      <td>610.291</td>\n",
       "      <td>208.178117</td>\n",
       "      <td>173.888747</td>\n",
       "      <td>1.197191</td>\n",
       "      <td>0.549812</td>\n",
       "      <td>28715</td>\n",
       "      <td>190.141097</td>\n",
       "      <td>0.763923</td>\n",
       "      <td>0.988856</td>\n",
       "      <td>0.958027</td>\n",
       "      <td>0.913358</td>\n",
       "      <td>0.007332</td>\n",
       "      <td>0.003147</td>\n",
       "      <td>0.834222</td>\n",
       "      <td>0.998724</td>\n",
       "      <td>SEKER</td>\n",
       "    </tr>\n",
       "    <tr>\n",
       "      <th>1</th>\n",
       "      <td>28734</td>\n",
       "      <td>638.018</td>\n",
       "      <td>200.524796</td>\n",
       "      <td>182.734419</td>\n",
       "      <td>1.097356</td>\n",
       "      <td>0.411785</td>\n",
       "      <td>29172</td>\n",
       "      <td>191.272751</td>\n",
       "      <td>0.783968</td>\n",
       "      <td>0.984986</td>\n",
       "      <td>0.887034</td>\n",
       "      <td>0.953861</td>\n",
       "      <td>0.006979</td>\n",
       "      <td>0.003564</td>\n",
       "      <td>0.909851</td>\n",
       "      <td>0.998430</td>\n",
       "      <td>SEKER</td>\n",
       "    </tr>\n",
       "    <tr>\n",
       "      <th>2</th>\n",
       "      <td>29380</td>\n",
       "      <td>624.110</td>\n",
       "      <td>212.826130</td>\n",
       "      <td>175.931143</td>\n",
       "      <td>1.209713</td>\n",
       "      <td>0.562727</td>\n",
       "      <td>29690</td>\n",
       "      <td>193.410904</td>\n",
       "      <td>0.778113</td>\n",
       "      <td>0.989559</td>\n",
       "      <td>0.947849</td>\n",
       "      <td>0.908774</td>\n",
       "      <td>0.007244</td>\n",
       "      <td>0.003048</td>\n",
       "      <td>0.825871</td>\n",
       "      <td>0.999066</td>\n",
       "      <td>SEKER</td>\n",
       "    </tr>\n",
       "    <tr>\n",
       "      <th>3</th>\n",
       "      <td>30008</td>\n",
       "      <td>645.884</td>\n",
       "      <td>210.557999</td>\n",
       "      <td>182.516516</td>\n",
       "      <td>1.153638</td>\n",
       "      <td>0.498616</td>\n",
       "      <td>30724</td>\n",
       "      <td>195.467062</td>\n",
       "      <td>0.782681</td>\n",
       "      <td>0.976696</td>\n",
       "      <td>0.903936</td>\n",
       "      <td>0.928329</td>\n",
       "      <td>0.007017</td>\n",
       "      <td>0.003215</td>\n",
       "      <td>0.861794</td>\n",
       "      <td>0.994199</td>\n",
       "      <td>SEKER</td>\n",
       "    </tr>\n",
       "    <tr>\n",
       "      <th>4</th>\n",
       "      <td>30140</td>\n",
       "      <td>620.134</td>\n",
       "      <td>201.847882</td>\n",
       "      <td>190.279279</td>\n",
       "      <td>1.060798</td>\n",
       "      <td>0.333680</td>\n",
       "      <td>30417</td>\n",
       "      <td>195.896503</td>\n",
       "      <td>0.773098</td>\n",
       "      <td>0.990893</td>\n",
       "      <td>0.984877</td>\n",
       "      <td>0.970516</td>\n",
       "      <td>0.006697</td>\n",
       "      <td>0.003665</td>\n",
       "      <td>0.941900</td>\n",
       "      <td>0.999166</td>\n",
       "      <td>SEKER</td>\n",
       "    </tr>\n",
       "  </tbody>\n",
       "</table>\n",
       "</div>"
      ],
      "text/plain": [
       "    Area  Perimeter  MajorAxisLength  MinorAxisLength  AspectRation  \\\n",
       "0  28395    610.291       208.178117       173.888747      1.197191   \n",
       "1  28734    638.018       200.524796       182.734419      1.097356   \n",
       "2  29380    624.110       212.826130       175.931143      1.209713   \n",
       "3  30008    645.884       210.557999       182.516516      1.153638   \n",
       "4  30140    620.134       201.847882       190.279279      1.060798   \n",
       "\n",
       "   Eccentricity  ConvexArea  EquivDiameter    Extent  Solidity  roundness  \\\n",
       "0      0.549812       28715     190.141097  0.763923  0.988856   0.958027   \n",
       "1      0.411785       29172     191.272751  0.783968  0.984986   0.887034   \n",
       "2      0.562727       29690     193.410904  0.778113  0.989559   0.947849   \n",
       "3      0.498616       30724     195.467062  0.782681  0.976696   0.903936   \n",
       "4      0.333680       30417     195.896503  0.773098  0.990893   0.984877   \n",
       "\n",
       "   Compactness  ShapeFactor1  ShapeFactor2  ShapeFactor3  ShapeFactor4  Class  \n",
       "0     0.913358      0.007332      0.003147      0.834222      0.998724  SEKER  \n",
       "1     0.953861      0.006979      0.003564      0.909851      0.998430  SEKER  \n",
       "2     0.908774      0.007244      0.003048      0.825871      0.999066  SEKER  \n",
       "3     0.928329      0.007017      0.003215      0.861794      0.994199  SEKER  \n",
       "4     0.970516      0.006697      0.003665      0.941900      0.999166  SEKER  "
      ]
     },
     "execution_count": 4,
     "metadata": {},
     "output_type": "execute_result"
    }
   ],
   "source": [
    "bean_df = pd.read_csv('Resources/Dry_Bean_Dataset.csv')\n",
    "bean_df.head()"
   ]
  },
  {
   "cell_type": "markdown",
   "metadata": {},
   "source": [
    "## Data Pre-Processing"
   ]
  },
  {
   "cell_type": "code",
   "execution_count": 5,
   "metadata": {},
   "outputs": [
    {
     "name": "stdout",
     "output_type": "stream",
     "text": [
      "(13611, 16) (13611,)\n"
     ]
    }
   ],
   "source": [
    "X = bean_df.drop(\"Class\", axis = 1)\n",
    "y = bean_df['Class']\n",
    "print(X.shape, y.shape)"
   ]
  },
  {
   "cell_type": "code",
   "execution_count": 6,
   "metadata": {},
   "outputs": [],
   "source": [
    "from sklearn.model_selection import train_test_split\n",
    "from sklearn.preprocessing import LabelEncoder, MinMaxScaler\n",
    "from tensorflow.keras.utils import to_categorical"
   ]
  },
  {
   "cell_type": "code",
   "execution_count": 7,
   "metadata": {},
   "outputs": [],
   "source": [
    "X_train, X_test, y_train, y_test = train_test_split(X, y, random_state = 1)"
   ]
  },
  {
   "cell_type": "code",
   "execution_count": 8,
   "metadata": {},
   "outputs": [],
   "source": [
    "X_scaler = MinMaxScaler().fit(X_train)\n",
    "X_train_scaled = X_scaler.transform(X_train)\n",
    "X_test_scaled = X_scaler.transform(X_test)"
   ]
  },
  {
   "cell_type": "code",
   "execution_count": 9,
   "metadata": {},
   "outputs": [],
   "source": [
    "# Label-encode data set\n",
    "label_encoder = LabelEncoder()\n",
    "label_encoder.fit(y_train)\n",
    "encoded_y_train = label_encoder.transform(y_train)\n",
    "encoded_y_test = label_encoder.transform(y_test)"
   ]
  },
  {
   "cell_type": "code",
   "execution_count": 10,
   "metadata": {},
   "outputs": [],
   "source": [
    "# One-hot-encode the encoded labels\n",
    "y_train_categorical = to_categorical(encoded_y_train)\n",
    "y_test_categorical = to_categorical(encoded_y_test)"
   ]
  },
  {
   "cell_type": "markdown",
   "metadata": {},
   "source": [
    "## Create Neural Network Model - Adam Optimizer"
   ]
  },
  {
   "cell_type": "code",
   "execution_count": 11,
   "metadata": {},
   "outputs": [],
   "source": [
    "from tensorflow.keras.models import Sequential\n",
    "from tensorflow.keras.layers import Dense"
   ]
  },
  {
   "cell_type": "code",
   "execution_count": 12,
   "metadata": {
    "scrolled": true
   },
   "outputs": [
    {
     "name": "stdout",
     "output_type": "stream",
     "text": [
      "WARNING:tensorflow:From C:\\Users\\luisg\\anaconda3\\envs\\PythonData\\lib\\site-packages\\tensorflow\\python\\ops\\init_ops.py:1251: calling VarianceScaling.__init__ (from tensorflow.python.ops.init_ops) with dtype is deprecated and will be removed in a future version.\n",
      "Instructions for updating:\n",
      "Call initializer instance with the dtype argument instead of passing it to the constructor\n"
     ]
    }
   ],
   "source": [
    "# Create model and add layers\n",
    "adam = Sequential()\n",
    "adam.add(Dense(units = 14, activation = 'relu', input_dim = 16))\n",
    "adam.add(Dense(units = 7, activation = 'softmax'))"
   ]
  },
  {
   "cell_type": "code",
   "execution_count": 13,
   "metadata": {},
   "outputs": [],
   "source": [
    "# Compile and fit the model\n",
    "adam.compile(optimizer = 'adam',\n",
    "              loss = 'categorical_crossentropy',\n",
    "              metrics = ['accuracy'])"
   ]
  },
  {
   "cell_type": "code",
   "execution_count": 14,
   "metadata": {
    "scrolled": true
   },
   "outputs": [
    {
     "name": "stdout",
     "output_type": "stream",
     "text": [
      "Model: \"sequential\"\n",
      "_________________________________________________________________\n",
      "Layer (type)                 Output Shape              Param #   \n",
      "=================================================================\n",
      "dense (Dense)                (None, 14)                238       \n",
      "_________________________________________________________________\n",
      "dense_1 (Dense)              (None, 7)                 105       \n",
      "=================================================================\n",
      "Total params: 343\n",
      "Trainable params: 343\n",
      "Non-trainable params: 0\n",
      "_________________________________________________________________\n"
     ]
    }
   ],
   "source": [
    "adam.summary()"
   ]
  },
  {
   "cell_type": "code",
   "execution_count": 15,
   "metadata": {},
   "outputs": [
    {
     "name": "stdout",
     "output_type": "stream",
     "text": [
      "Epoch 1/50\n",
      "10208/10208 - 0s - loss: 1.7586 - acc: 0.2586\n",
      "Epoch 2/50\n",
      "10208/10208 - 0s - loss: 1.2484 - acc: 0.5312\n",
      "Epoch 3/50\n",
      "10208/10208 - 0s - loss: 0.8211 - acc: 0.8170\n",
      "Epoch 4/50\n",
      "10208/10208 - 0s - loss: 0.6144 - acc: 0.8679\n",
      "Epoch 5/50\n",
      "10208/10208 - 0s - loss: 0.5041 - acc: 0.8790\n",
      "Epoch 6/50\n",
      "10208/10208 - 0s - loss: 0.4388 - acc: 0.8840\n",
      "Epoch 7/50\n",
      "10208/10208 - 0s - loss: 0.3978 - acc: 0.8863\n",
      "Epoch 8/50\n",
      "10208/10208 - 0s - loss: 0.3708 - acc: 0.8870\n",
      "Epoch 9/50\n",
      "10208/10208 - 0s - loss: 0.3519 - acc: 0.8882\n",
      "Epoch 10/50\n",
      "10208/10208 - 0s - loss: 0.3385 - acc: 0.8879\n",
      "Epoch 11/50\n",
      "10208/10208 - 0s - loss: 0.3282 - acc: 0.8893\n",
      "Epoch 12/50\n",
      "10208/10208 - 0s - loss: 0.3194 - acc: 0.8901\n",
      "Epoch 13/50\n",
      "10208/10208 - 0s - loss: 0.3140 - acc: 0.8901\n",
      "Epoch 14/50\n",
      "10208/10208 - 0s - loss: 0.3091 - acc: 0.8891\n",
      "Epoch 15/50\n",
      "10208/10208 - 0s - loss: 0.3041 - acc: 0.8921\n",
      "Epoch 16/50\n",
      "10208/10208 - 0s - loss: 0.2998 - acc: 0.8918\n",
      "Epoch 17/50\n",
      "10208/10208 - 0s - loss: 0.2963 - acc: 0.8941\n",
      "Epoch 18/50\n",
      "10208/10208 - 0s - loss: 0.2937 - acc: 0.8951\n",
      "Epoch 19/50\n",
      "10208/10208 - 0s - loss: 0.2909 - acc: 0.8946\n",
      "Epoch 20/50\n",
      "10208/10208 - 0s - loss: 0.2894 - acc: 0.8949\n",
      "Epoch 21/50\n",
      "10208/10208 - 0s - loss: 0.2853 - acc: 0.8958\n",
      "Epoch 22/50\n",
      "10208/10208 - 0s - loss: 0.2839 - acc: 0.8973\n",
      "Epoch 23/50\n",
      "10208/10208 - 0s - loss: 0.2813 - acc: 0.8976\n",
      "Epoch 24/50\n",
      "10208/10208 - 0s - loss: 0.2794 - acc: 0.9008\n",
      "Epoch 25/50\n",
      "10208/10208 - 0s - loss: 0.2771 - acc: 0.9000\n",
      "Epoch 26/50\n",
      "10208/10208 - 0s - loss: 0.2756 - acc: 0.8997\n",
      "Epoch 27/50\n",
      "10208/10208 - 0s - loss: 0.2739 - acc: 0.8996\n",
      "Epoch 28/50\n",
      "10208/10208 - 0s - loss: 0.2716 - acc: 0.9025\n",
      "Epoch 29/50\n",
      "10208/10208 - 0s - loss: 0.2704 - acc: 0.9025\n",
      "Epoch 30/50\n",
      "10208/10208 - 0s - loss: 0.2685 - acc: 0.9044\n",
      "Epoch 31/50\n",
      "10208/10208 - 0s - loss: 0.2660 - acc: 0.9049\n",
      "Epoch 32/50\n",
      "10208/10208 - 0s - loss: 0.2651 - acc: 0.9043\n",
      "Epoch 33/50\n",
      "10208/10208 - 0s - loss: 0.2633 - acc: 0.9049\n",
      "Epoch 34/50\n",
      "10208/10208 - 0s - loss: 0.2613 - acc: 0.9078\n",
      "Epoch 35/50\n",
      "10208/10208 - 0s - loss: 0.2597 - acc: 0.9076\n",
      "Epoch 36/50\n",
      "10208/10208 - 0s - loss: 0.2584 - acc: 0.9086\n",
      "Epoch 37/50\n",
      "10208/10208 - 0s - loss: 0.2575 - acc: 0.9090\n",
      "Epoch 38/50\n",
      "10208/10208 - 0s - loss: 0.2563 - acc: 0.9097\n",
      "Epoch 39/50\n",
      "10208/10208 - 0s - loss: 0.2546 - acc: 0.9093\n",
      "Epoch 40/50\n",
      "10208/10208 - 0s - loss: 0.2535 - acc: 0.9113\n",
      "Epoch 41/50\n",
      "10208/10208 - 0s - loss: 0.2518 - acc: 0.9113\n",
      "Epoch 42/50\n",
      "10208/10208 - 0s - loss: 0.2507 - acc: 0.9114\n",
      "Epoch 43/50\n",
      "10208/10208 - 0s - loss: 0.2504 - acc: 0.9113\n",
      "Epoch 44/50\n",
      "10208/10208 - 0s - loss: 0.2495 - acc: 0.9127\n",
      "Epoch 45/50\n",
      "10208/10208 - 0s - loss: 0.2481 - acc: 0.9117\n",
      "Epoch 46/50\n",
      "10208/10208 - 0s - loss: 0.2468 - acc: 0.9128\n",
      "Epoch 47/50\n",
      "10208/10208 - 0s - loss: 0.2458 - acc: 0.9130\n",
      "Epoch 48/50\n",
      "10208/10208 - 0s - loss: 0.2449 - acc: 0.9132\n",
      "Epoch 49/50\n",
      "10208/10208 - 0s - loss: 0.2448 - acc: 0.9123\n",
      "Epoch 50/50\n",
      "10208/10208 - 0s - loss: 0.2428 - acc: 0.9131\n"
     ]
    }
   ],
   "source": [
    "history = adam.fit(\n",
    "    X_train_scaled,\n",
    "    y_train_categorical,\n",
    "    epochs = 50,\n",
    "    shuffle = True,\n",
    "    verbose = 2\n",
    ")"
   ]
  },
  {
   "cell_type": "code",
   "execution_count": 16,
   "metadata": {},
   "outputs": [],
   "source": [
    "adam_losses = history.history['loss']\n",
    "adam_accs = history.history['acc']"
   ]
  },
  {
   "cell_type": "code",
   "execution_count": 17,
   "metadata": {},
   "outputs": [
    {
     "name": "stdout",
     "output_type": "stream",
     "text": [
      "3403/3403 - 0s - loss: 0.2458 - acc: 0.9177\n",
      "Neural Network with Adam Optimizer - Loss: 0.24583254329796717, Accuracy: 0.9177196621894836\n"
     ]
    }
   ],
   "source": [
    "# Quantify Adam Model \n",
    "adam_loss, adam_acc = adam.evaluate(\n",
    "    X_test_scaled, y_test_categorical, verbose = 2)\n",
    "print(\n",
    "    f\"Neural Network with Adam Optimizer - Loss: {adam_loss}, Accuracy: {adam_acc}\")"
   ]
  },
  {
   "cell_type": "markdown",
   "metadata": {},
   "source": [
    "## Nadam Optimizer"
   ]
  },
  {
   "cell_type": "code",
   "execution_count": 18,
   "metadata": {
    "scrolled": true
   },
   "outputs": [],
   "source": [
    "# Create model and add layers\n",
    "nadam = Sequential()\n",
    "nadam.add(Dense(units = 14, activation = 'relu', input_dim = 16))\n",
    "nadam.add(Dense(units = 7, activation = 'softmax'))"
   ]
  },
  {
   "cell_type": "code",
   "execution_count": 19,
   "metadata": {},
   "outputs": [],
   "source": [
    "# Compile and fit the model\n",
    "nadam.compile(optimizer = 'nadam',\n",
    "              loss = 'categorical_crossentropy',\n",
    "              metrics = ['accuracy'])"
   ]
  },
  {
   "cell_type": "code",
   "execution_count": 20,
   "metadata": {},
   "outputs": [
    {
     "name": "stdout",
     "output_type": "stream",
     "text": [
      "Epoch 1/50\n",
      "10208/10208 - 0s - loss: 1.7543 - acc: 0.2863\n",
      "Epoch 2/50\n",
      "10208/10208 - 0s - loss: 1.2578 - acc: 0.5052\n",
      "Epoch 3/50\n",
      "10208/10208 - 0s - loss: 0.8826 - acc: 0.7615\n",
      "Epoch 4/50\n",
      "10208/10208 - 0s - loss: 0.6578 - acc: 0.8573\n",
      "Epoch 5/50\n",
      "10208/10208 - 0s - loss: 0.5274 - acc: 0.8791\n",
      "Epoch 6/50\n",
      "10208/10208 - 0s - loss: 0.4495 - acc: 0.8876\n",
      "Epoch 7/50\n",
      "10208/10208 - 0s - loss: 0.4006 - acc: 0.8891\n",
      "Epoch 8/50\n",
      "10208/10208 - 0s - loss: 0.3677 - acc: 0.8899\n",
      "Epoch 9/50\n",
      "10208/10208 - 0s - loss: 0.3446 - acc: 0.8919\n",
      "Epoch 10/50\n",
      "10208/10208 - 0s - loss: 0.3281 - acc: 0.8948\n",
      "Epoch 11/50\n",
      "10208/10208 - 0s - loss: 0.3153 - acc: 0.8965\n",
      "Epoch 12/50\n",
      "10208/10208 - 0s - loss: 0.3046 - acc: 0.8972\n",
      "Epoch 13/50\n",
      "10208/10208 - 0s - loss: 0.2969 - acc: 0.9002\n",
      "Epoch 14/50\n",
      "10208/10208 - 0s - loss: 0.2900 - acc: 0.9009\n",
      "Epoch 15/50\n",
      "10208/10208 - 0s - loss: 0.2838 - acc: 0.9030\n",
      "Epoch 16/50\n",
      "10208/10208 - 0s - loss: 0.2790 - acc: 0.9032\n",
      "Epoch 17/50\n",
      "10208/10208 - 0s - loss: 0.2748 - acc: 0.9051\n",
      "Epoch 18/50\n",
      "10208/10208 - 0s - loss: 0.2707 - acc: 0.9067\n",
      "Epoch 19/50\n",
      "10208/10208 - 0s - loss: 0.2674 - acc: 0.9075\n",
      "Epoch 20/50\n",
      "10208/10208 - 0s - loss: 0.2637 - acc: 0.9071\n",
      "Epoch 21/50\n",
      "10208/10208 - 0s - loss: 0.2618 - acc: 0.9087\n",
      "Epoch 22/50\n",
      "10208/10208 - 0s - loss: 0.2593 - acc: 0.9088\n",
      "Epoch 23/50\n",
      "10208/10208 - 0s - loss: 0.2571 - acc: 0.9096\n",
      "Epoch 24/50\n",
      "10208/10208 - 0s - loss: 0.2552 - acc: 0.9097\n",
      "Epoch 25/50\n",
      "10208/10208 - 0s - loss: 0.2532 - acc: 0.9102\n",
      "Epoch 26/50\n",
      "10208/10208 - 0s - loss: 0.2514 - acc: 0.9111\n",
      "Epoch 27/50\n",
      "10208/10208 - 0s - loss: 0.2507 - acc: 0.9113\n",
      "Epoch 28/50\n",
      "10208/10208 - 0s - loss: 0.2482 - acc: 0.9123\n",
      "Epoch 29/50\n",
      "10208/10208 - 0s - loss: 0.2476 - acc: 0.9130\n",
      "Epoch 30/50\n",
      "10208/10208 - 0s - loss: 0.2457 - acc: 0.9125\n",
      "Epoch 31/50\n",
      "10208/10208 - 0s - loss: 0.2449 - acc: 0.9128\n",
      "Epoch 32/50\n",
      "10208/10208 - 0s - loss: 0.2446 - acc: 0.9148\n",
      "Epoch 33/50\n",
      "10208/10208 - 0s - loss: 0.2432 - acc: 0.9135\n",
      "Epoch 34/50\n",
      "10208/10208 - 0s - loss: 0.2425 - acc: 0.9132\n",
      "Epoch 35/50\n",
      "10208/10208 - 0s - loss: 0.2417 - acc: 0.9136\n",
      "Epoch 36/50\n",
      "10208/10208 - 0s - loss: 0.2406 - acc: 0.9132\n",
      "Epoch 37/50\n",
      "10208/10208 - 0s - loss: 0.2404 - acc: 0.9151\n",
      "Epoch 38/50\n",
      "10208/10208 - 0s - loss: 0.2398 - acc: 0.9150\n",
      "Epoch 39/50\n",
      "10208/10208 - 0s - loss: 0.2389 - acc: 0.9151\n",
      "Epoch 40/50\n",
      "10208/10208 - 0s - loss: 0.2382 - acc: 0.9167\n",
      "Epoch 41/50\n",
      "10208/10208 - 0s - loss: 0.2377 - acc: 0.9152\n",
      "Epoch 42/50\n",
      "10208/10208 - 0s - loss: 0.2366 - acc: 0.9149\n",
      "Epoch 43/50\n",
      "10208/10208 - 0s - loss: 0.2368 - acc: 0.9157\n",
      "Epoch 44/50\n",
      "10208/10208 - 0s - loss: 0.2361 - acc: 0.9154\n",
      "Epoch 45/50\n",
      "10208/10208 - 0s - loss: 0.2361 - acc: 0.9163\n",
      "Epoch 46/50\n",
      "10208/10208 - 0s - loss: 0.2349 - acc: 0.9155\n",
      "Epoch 47/50\n",
      "10208/10208 - 0s - loss: 0.2344 - acc: 0.9161\n",
      "Epoch 48/50\n",
      "10208/10208 - 0s - loss: 0.2348 - acc: 0.9170\n",
      "Epoch 49/50\n",
      "10208/10208 - 0s - loss: 0.2341 - acc: 0.9170\n",
      "Epoch 50/50\n",
      "10208/10208 - 0s - loss: 0.2339 - acc: 0.9176\n"
     ]
    }
   ],
   "source": [
    "history = nadam.fit(\n",
    "    X_train_scaled,\n",
    "    y_train_categorical,\n",
    "    epochs = 50,\n",
    "    shuffle = True,\n",
    "    verbose = 2\n",
    ")"
   ]
  },
  {
   "cell_type": "code",
   "execution_count": 21,
   "metadata": {},
   "outputs": [],
   "source": [
    "nadam_losses = history.history['loss']\n",
    "nadam_accs = history.history['acc']"
   ]
  },
  {
   "cell_type": "code",
   "execution_count": 22,
   "metadata": {},
   "outputs": [
    {
     "name": "stdout",
     "output_type": "stream",
     "text": [
      "3403/3403 - 0s - loss: 0.2294 - acc: 0.9186\n",
      "Neural Network with Nadam Optimizer - Loss: 0.22941215372229196, Accuracy: 0.9186012148857117\n"
     ]
    }
   ],
   "source": [
    "# Quantify Nadam Model \n",
    "nadam_loss, nadam_acc = nadam.evaluate(\n",
    "    X_test_scaled, y_test_categorical, verbose = 2)\n",
    "print(\n",
    "    f\"Neural Network with Nadam Optimizer - Loss: {nadam_loss}, Accuracy: {nadam_acc}\")"
   ]
  },
  {
   "cell_type": "markdown",
   "metadata": {},
   "source": [
    "## RMSProp Optimizer"
   ]
  },
  {
   "cell_type": "code",
   "execution_count": 23,
   "metadata": {
    "scrolled": true
   },
   "outputs": [],
   "source": [
    "# Create model and add layers\n",
    "rmsprop = Sequential()\n",
    "rmsprop.add(Dense(units = 14, activation = 'relu', input_dim = 16))\n",
    "rmsprop.add(Dense(units = 7, activation = 'softmax'))"
   ]
  },
  {
   "cell_type": "code",
   "execution_count": 24,
   "metadata": {},
   "outputs": [],
   "source": [
    "# Compile and fit the model\n",
    "rmsprop.compile(optimizer = 'rmsprop',\n",
    "              loss = 'categorical_crossentropy',\n",
    "              metrics = ['accuracy'])"
   ]
  },
  {
   "cell_type": "code",
   "execution_count": 25,
   "metadata": {},
   "outputs": [
    {
     "name": "stdout",
     "output_type": "stream",
     "text": [
      "Epoch 1/50\n",
      "10208/10208 - 0s - loss: 1.5631 - acc: 0.3073\n",
      "Epoch 2/50\n",
      "10208/10208 - 0s - loss: 1.1235 - acc: 0.5765\n",
      "Epoch 3/50\n",
      "10208/10208 - 0s - loss: 0.8354 - acc: 0.7789\n",
      "Epoch 4/50\n",
      "10208/10208 - 0s - loss: 0.6418 - acc: 0.8503\n",
      "Epoch 5/50\n",
      "10208/10208 - 0s - loss: 0.5165 - acc: 0.8726\n",
      "Epoch 6/50\n",
      "10208/10208 - 0s - loss: 0.4412 - acc: 0.8794\n",
      "Epoch 7/50\n",
      "10208/10208 - 0s - loss: 0.3950 - acc: 0.8851\n",
      "Epoch 8/50\n",
      "10208/10208 - 0s - loss: 0.3661 - acc: 0.8857\n",
      "Epoch 9/50\n",
      "10208/10208 - 0s - loss: 0.3468 - acc: 0.8870\n",
      "Epoch 10/50\n",
      "10208/10208 - 0s - loss: 0.3331 - acc: 0.8867\n",
      "Epoch 11/50\n",
      "10208/10208 - 0s - loss: 0.3223 - acc: 0.8892\n",
      "Epoch 12/50\n",
      "10208/10208 - 0s - loss: 0.3145 - acc: 0.8906\n",
      "Epoch 13/50\n",
      "10208/10208 - 0s - loss: 0.3083 - acc: 0.8918\n",
      "Epoch 14/50\n",
      "10208/10208 - 0s - loss: 0.3018 - acc: 0.8948\n",
      "Epoch 15/50\n",
      "10208/10208 - 0s - loss: 0.2987 - acc: 0.8949\n",
      "Epoch 16/50\n",
      "10208/10208 - 0s - loss: 0.2937 - acc: 0.8962\n",
      "Epoch 17/50\n",
      "10208/10208 - 0s - loss: 0.2903 - acc: 0.8973\n",
      "Epoch 18/50\n",
      "10208/10208 - 0s - loss: 0.2873 - acc: 0.8994\n",
      "Epoch 19/50\n",
      "10208/10208 - 0s - loss: 0.2835 - acc: 0.8991\n",
      "Epoch 20/50\n",
      "10208/10208 - 0s - loss: 0.2817 - acc: 0.9005\n",
      "Epoch 21/50\n",
      "10208/10208 - 0s - loss: 0.2787 - acc: 0.9011\n",
      "Epoch 22/50\n",
      "10208/10208 - 0s - loss: 0.2764 - acc: 0.9030\n",
      "Epoch 23/50\n",
      "10208/10208 - 0s - loss: 0.2741 - acc: 0.9011\n",
      "Epoch 24/50\n",
      "10208/10208 - 0s - loss: 0.2720 - acc: 0.9048\n",
      "Epoch 25/50\n",
      "10208/10208 - 0s - loss: 0.2705 - acc: 0.9047\n",
      "Epoch 26/50\n",
      "10208/10208 - 0s - loss: 0.2683 - acc: 0.9034\n",
      "Epoch 27/50\n",
      "10208/10208 - 0s - loss: 0.2664 - acc: 0.9069\n",
      "Epoch 28/50\n",
      "10208/10208 - 0s - loss: 0.2647 - acc: 0.9068\n",
      "Epoch 29/50\n",
      "10208/10208 - 0s - loss: 0.2629 - acc: 0.9073\n",
      "Epoch 30/50\n",
      "10208/10208 - 0s - loss: 0.2621 - acc: 0.9086\n",
      "Epoch 31/50\n",
      "10208/10208 - 0s - loss: 0.2604 - acc: 0.9085\n",
      "Epoch 32/50\n",
      "10208/10208 - 0s - loss: 0.2589 - acc: 0.9085\n",
      "Epoch 33/50\n",
      "10208/10208 - 0s - loss: 0.2572 - acc: 0.9098\n",
      "Epoch 34/50\n",
      "10208/10208 - 0s - loss: 0.2559 - acc: 0.9113\n",
      "Epoch 35/50\n",
      "10208/10208 - 0s - loss: 0.2546 - acc: 0.9094\n",
      "Epoch 36/50\n",
      "10208/10208 - 0s - loss: 0.2535 - acc: 0.9110\n",
      "Epoch 37/50\n",
      "10208/10208 - 0s - loss: 0.2525 - acc: 0.9117\n",
      "Epoch 38/50\n",
      "10208/10208 - 0s - loss: 0.2516 - acc: 0.9107\n",
      "Epoch 39/50\n",
      "10208/10208 - 0s - loss: 0.2505 - acc: 0.9109\n",
      "Epoch 40/50\n",
      "10208/10208 - 0s - loss: 0.2494 - acc: 0.9103\n",
      "Epoch 41/50\n",
      "10208/10208 - 0s - loss: 0.2489 - acc: 0.9135\n",
      "Epoch 42/50\n",
      "10208/10208 - 0s - loss: 0.2479 - acc: 0.9131\n",
      "Epoch 43/50\n",
      "10208/10208 - 0s - loss: 0.2468 - acc: 0.9121\n",
      "Epoch 44/50\n",
      "10208/10208 - 0s - loss: 0.2465 - acc: 0.9140\n",
      "Epoch 45/50\n",
      "10208/10208 - 0s - loss: 0.2456 - acc: 0.9142\n",
      "Epoch 46/50\n",
      "10208/10208 - 0s - loss: 0.2447 - acc: 0.9124\n",
      "Epoch 47/50\n",
      "10208/10208 - 0s - loss: 0.2444 - acc: 0.9138\n",
      "Epoch 48/50\n",
      "10208/10208 - 0s - loss: 0.2432 - acc: 0.9153\n",
      "Epoch 49/50\n",
      "10208/10208 - 0s - loss: 0.2433 - acc: 0.9145\n",
      "Epoch 50/50\n",
      "10208/10208 - 0s - loss: 0.2427 - acc: 0.9146\n"
     ]
    }
   ],
   "source": [
    "history = rmsprop.fit(\n",
    "    X_train_scaled,\n",
    "    y_train_categorical,\n",
    "    epochs = 50,\n",
    "    shuffle = True,\n",
    "    verbose = 2\n",
    ")"
   ]
  },
  {
   "cell_type": "code",
   "execution_count": 26,
   "metadata": {},
   "outputs": [],
   "source": [
    "rmsprop_losses = history.history['loss']\n",
    "rmsprop_accs = history.history['acc']"
   ]
  },
  {
   "cell_type": "code",
   "execution_count": 27,
   "metadata": {},
   "outputs": [
    {
     "name": "stdout",
     "output_type": "stream",
     "text": [
      "3403/3403 - 0s - loss: 0.2495 - acc: 0.9118\n",
      "Neural Network with RMSProp Optimizer - Loss: 0.24946407854224245, Accuracy: 0.9118424654006958\n"
     ]
    }
   ],
   "source": [
    "# Quantify RMSProp Model \n",
    "rmsprop_loss, rmsprop_acc = rmsprop.evaluate(\n",
    "    X_test_scaled, y_test_categorical, verbose = 2)\n",
    "print(\n",
    "    f\"Neural Network with RMSProp Optimizer - Loss: {rmsprop_loss}, Accuracy: {rmsprop_acc}\") "
   ]
  },
  {
   "cell_type": "markdown",
   "metadata": {},
   "source": [
    "## SGD Optimizer"
   ]
  },
  {
   "cell_type": "code",
   "execution_count": 28,
   "metadata": {
    "scrolled": true
   },
   "outputs": [],
   "source": [
    "# Create model and add layers\n",
    "sgd = Sequential()\n",
    "sgd.add(Dense(units = 14, activation = 'relu', input_dim = 16))\n",
    "sgd.add(Dense(units = 7, activation = 'softmax'))"
   ]
  },
  {
   "cell_type": "code",
   "execution_count": 29,
   "metadata": {},
   "outputs": [],
   "source": [
    "# Compile and fit the model\n",
    "sgd.compile(optimizer = 'sgd',\n",
    "              loss = 'categorical_crossentropy',\n",
    "              metrics = ['accuracy'])"
   ]
  },
  {
   "cell_type": "code",
   "execution_count": 30,
   "metadata": {},
   "outputs": [
    {
     "name": "stdout",
     "output_type": "stream",
     "text": [
      "Epoch 1/50\n",
      "10208/10208 - 0s - loss: 1.9052 - acc: 0.2403\n",
      "Epoch 2/50\n",
      "10208/10208 - 0s - loss: 1.7625 - acc: 0.3292\n",
      "Epoch 3/50\n",
      "10208/10208 - 0s - loss: 1.6586 - acc: 0.3568\n",
      "Epoch 4/50\n",
      "10208/10208 - 0s - loss: 1.5406 - acc: 0.3988\n",
      "Epoch 5/50\n",
      "10208/10208 - 0s - loss: 1.4058 - acc: 0.4403\n",
      "Epoch 6/50\n",
      "10208/10208 - 0s - loss: 1.2647 - acc: 0.4726\n",
      "Epoch 7/50\n",
      "10208/10208 - 0s - loss: 1.1272 - acc: 0.5745\n",
      "Epoch 8/50\n",
      "10208/10208 - 0s - loss: 1.0022 - acc: 0.7065\n",
      "Epoch 9/50\n",
      "10208/10208 - 0s - loss: 0.8935 - acc: 0.7800\n",
      "Epoch 10/50\n",
      "10208/10208 - 0s - loss: 0.8025 - acc: 0.8162\n",
      "Epoch 11/50\n",
      "10208/10208 - 0s - loss: 0.7272 - acc: 0.8405\n",
      "Epoch 12/50\n",
      "10208/10208 - 0s - loss: 0.6660 - acc: 0.8526\n",
      "Epoch 13/50\n",
      "10208/10208 - 0s - loss: 0.6159 - acc: 0.8636\n",
      "Epoch 14/50\n",
      "10208/10208 - 0s - loss: 0.5750 - acc: 0.8686\n",
      "Epoch 15/50\n",
      "10208/10208 - 0s - loss: 0.5410 - acc: 0.8727\n",
      "Epoch 16/50\n",
      "10208/10208 - 0s - loss: 0.5124 - acc: 0.8759\n",
      "Epoch 17/50\n",
      "10208/10208 - 0s - loss: 0.4885 - acc: 0.8776\n",
      "Epoch 18/50\n",
      "10208/10208 - 0s - loss: 0.4682 - acc: 0.8794\n",
      "Epoch 19/50\n",
      "10208/10208 - 0s - loss: 0.4506 - acc: 0.8817\n",
      "Epoch 20/50\n",
      "10208/10208 - 0s - loss: 0.4355 - acc: 0.8809\n",
      "Epoch 21/50\n",
      "10208/10208 - 0s - loss: 0.4225 - acc: 0.8809\n",
      "Epoch 22/50\n",
      "10208/10208 - 0s - loss: 0.4109 - acc: 0.8813\n",
      "Epoch 23/50\n",
      "10208/10208 - 0s - loss: 0.4009 - acc: 0.8814\n",
      "Epoch 24/50\n",
      "10208/10208 - 0s - loss: 0.3919 - acc: 0.8836\n",
      "Epoch 25/50\n",
      "10208/10208 - 0s - loss: 0.3840 - acc: 0.8847\n",
      "Epoch 26/50\n",
      "10208/10208 - 0s - loss: 0.3766 - acc: 0.8829\n",
      "Epoch 27/50\n",
      "10208/10208 - 0s - loss: 0.3703 - acc: 0.8840\n",
      "Epoch 28/50\n",
      "10208/10208 - 0s - loss: 0.3644 - acc: 0.8854\n",
      "Epoch 29/50\n",
      "10208/10208 - 0s - loss: 0.3592 - acc: 0.8861\n",
      "Epoch 30/50\n",
      "10208/10208 - 0s - loss: 0.3543 - acc: 0.8842\n",
      "Epoch 31/50\n",
      "10208/10208 - 0s - loss: 0.3501 - acc: 0.8850\n",
      "Epoch 32/50\n",
      "10208/10208 - 0s - loss: 0.3458 - acc: 0.8873\n",
      "Epoch 33/50\n",
      "10208/10208 - 0s - loss: 0.3422 - acc: 0.8871\n",
      "Epoch 34/50\n",
      "10208/10208 - 0s - loss: 0.3387 - acc: 0.8884\n",
      "Epoch 35/50\n",
      "10208/10208 - 0s - loss: 0.3354 - acc: 0.8881\n",
      "Epoch 36/50\n",
      "10208/10208 - 0s - loss: 0.3326 - acc: 0.8894\n",
      "Epoch 37/50\n",
      "10208/10208 - 0s - loss: 0.3294 - acc: 0.8887\n",
      "Epoch 38/50\n",
      "10208/10208 - 0s - loss: 0.3269 - acc: 0.8883\n",
      "Epoch 39/50\n",
      "10208/10208 - 0s - loss: 0.3245 - acc: 0.8883\n",
      "Epoch 40/50\n",
      "10208/10208 - 0s - loss: 0.3219 - acc: 0.8904\n",
      "Epoch 41/50\n",
      "10208/10208 - 0s - loss: 0.3201 - acc: 0.8890\n",
      "Epoch 42/50\n",
      "10208/10208 - 0s - loss: 0.3178 - acc: 0.8886\n",
      "Epoch 43/50\n",
      "10208/10208 - 0s - loss: 0.3156 - acc: 0.8895\n",
      "Epoch 44/50\n",
      "10208/10208 - 0s - loss: 0.3137 - acc: 0.8910\n",
      "Epoch 45/50\n",
      "10208/10208 - 0s - loss: 0.3121 - acc: 0.8920\n",
      "Epoch 46/50\n",
      "10208/10208 - 0s - loss: 0.3105 - acc: 0.8918\n",
      "Epoch 47/50\n",
      "10208/10208 - 0s - loss: 0.3086 - acc: 0.8925\n",
      "Epoch 48/50\n",
      "10208/10208 - 0s - loss: 0.3073 - acc: 0.8914\n",
      "Epoch 49/50\n",
      "10208/10208 - 0s - loss: 0.3056 - acc: 0.8922\n",
      "Epoch 50/50\n",
      "10208/10208 - 0s - loss: 0.3041 - acc: 0.8927\n"
     ]
    }
   ],
   "source": [
    "history = sgd.fit(\n",
    "    X_train_scaled,\n",
    "    y_train_categorical,\n",
    "    epochs = 50,\n",
    "    shuffle = True,\n",
    "    verbose = 2\n",
    ")"
   ]
  },
  {
   "cell_type": "code",
   "execution_count": 31,
   "metadata": {},
   "outputs": [],
   "source": [
    "sgd_losses = history.history['loss']\n",
    "sgd_accs = history.history['acc']"
   ]
  },
  {
   "cell_type": "code",
   "execution_count": 32,
   "metadata": {},
   "outputs": [
    {
     "name": "stdout",
     "output_type": "stream",
     "text": [
      "3403/3403 - 0s - loss: 0.3060 - acc: 0.8936\n",
      "Neural Network with SGD Optimizer - Loss: 0.30597892767045554, Accuracy: 0.8936232924461365\n"
     ]
    }
   ],
   "source": [
    "# Quantify Nadam Model \n",
    "sgd_loss, sgd_acc = sgd.evaluate(\n",
    "    X_test_scaled, y_test_categorical, verbose = 2)\n",
    "print(\n",
    "    f\"Neural Network with SGD Optimizer - Loss: {sgd_loss}, Accuracy: {sgd_acc}\")"
   ]
  },
  {
   "cell_type": "code",
   "execution_count": 33,
   "metadata": {},
   "outputs": [
    {
     "data": {
      "image/png": "[encoded data removed]",
      "text/plain": [
       "<Figure size 432x288 with 1 Axes>"
      ]
     },
     "metadata": {
      "needs_background": "light"
     },
     "output_type": "display_data"
    }
   ],
   "source": [
    "## Plot model accuracy and loss over epochs\n",
    "\n",
    "import matplotlib.pyplot as plt\n",
    "\n",
    "epochs = range(1,51)\n",
    "plt.plot(epochs, adam_accs, 'red', label = \"Adam optimizer accuracy\")\n",
    "plt.plot(epochs, nadam_accs, 'yellow', label = \"Nadam optimizer accuracy\")\n",
    "plt.plot(epochs, rmsprop_accs, 'blue', label = \"RMSProp optimizer accuracy\")\n",
    "plt.plot(epochs, sgd_accs, 'green', label = \"SGD optimizer accuracy\")\n",
    "plt.legend()\n",
    "plt.show()"
   ]
  },
  {
   "cell_type": "code",
   "execution_count": 34,
   "metadata": {},
   "outputs": [
    {
     "data": {
      "image/png": "[encoded data removed]",
      "text/plain": [
       "<Figure size 432x288 with 1 Axes>"
      ]
     },
     "metadata": {
      "needs_background": "light"
     },
     "output_type": "display_data"
    }
   ],
   "source": [
    "plt.plot(epochs, adam_losses, 'red', label = \"Adam optimizer loss\")\n",
    "plt.plot(epochs, nadam_losses, 'yellow', label = \"Nadam optimizer loss\")\n",
    "plt.plot(epochs, rmsprop_losses, 'blue', label = \"RMSProp optimizer loss\")\n",
    "plt.plot(epochs, sgd_losses, 'green', label = \"SGD optimizer loss\")\n",
    "plt.legend()\n",
    "plt.show()"
   ]
  },
  {
   "cell_type": "code",
   "execution_count": null,
   "metadata": {},
   "outputs": [],
   "source": []
  }
 ],
 "metadata": {
  "kernelspec": {
   "display_name": "Python 3",
   "language": "python",
   "name": "python3"
  },
  "language_info": {
   "codemirror_mode": {
    "name": "ipython",
    "version": 3
   },
   "file_extension": ".py",
   "mimetype": "text/x-python",
   "name": "python",
   "nbconvert_exporter": "python",
   "pygments_lexer": "ipython3",
   "version": "3.6.10"
  }
 },
 "nbformat": 4,
 "nbformat_minor": 4
}
