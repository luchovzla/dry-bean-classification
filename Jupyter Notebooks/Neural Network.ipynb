{
 "cells": [
  {
   "cell_type": "code",
   "execution_count": 1,
   "metadata": {},
   "outputs": [],
   "source": [
    "# Seed for random events\n",
    "from numpy.random import seed\n",
    "seed(1)"
   ]
  },
  {
   "cell_type": "code",
   "execution_count": 2,
   "metadata": {},
   "outputs": [],
   "source": [
    "# Dependencies\n",
    "import numpy as np\n",
    "import pandas as pd"
   ]
  },
  {
   "cell_type": "code",
   "execution_count": 3,
   "metadata": {},
   "outputs": [
    {
     "name": "stderr",
     "output_type": "stream",
     "text": [
      "C:\\Users\\luisg\\anaconda3\\envs\\PythonData\\lib\\site-packages\\tensorflow\\python\\framework\\dtypes.py:516: FutureWarning: Passing (type, 1) or '1type' as a synonym of type is deprecated; in a future version of numpy, it will be understood as (type, (1,)) / '(1,)type'.\n",
      "  _np_qint8 = np.dtype([(\"qint8\", np.int8, 1)])\n",
      "C:\\Users\\luisg\\anaconda3\\envs\\PythonData\\lib\\site-packages\\tensorflow\\python\\framework\\dtypes.py:517: FutureWarning: Passing (type, 1) or '1type' as a synonym of type is deprecated; in a future version of numpy, it will be understood as (type, (1,)) / '(1,)type'.\n",
      "  _np_quint8 = np.dtype([(\"quint8\", np.uint8, 1)])\n",
      "C:\\Users\\luisg\\anaconda3\\envs\\PythonData\\lib\\site-packages\\tensorflow\\python\\framework\\dtypes.py:518: FutureWarning: Passing (type, 1) or '1type' as a synonym of type is deprecated; in a future version of numpy, it will be understood as (type, (1,)) / '(1,)type'.\n",
      "  _np_qint16 = np.dtype([(\"qint16\", np.int16, 1)])\n",
      "C:\\Users\\luisg\\anaconda3\\envs\\PythonData\\lib\\site-packages\\tensorflow\\python\\framework\\dtypes.py:519: FutureWarning: Passing (type, 1) or '1type' as a synonym of type is deprecated; in a future version of numpy, it will be understood as (type, (1,)) / '(1,)type'.\n",
      "  _np_quint16 = np.dtype([(\"quint16\", np.uint16, 1)])\n",
      "C:\\Users\\luisg\\anaconda3\\envs\\PythonData\\lib\\site-packages\\tensorflow\\python\\framework\\dtypes.py:520: FutureWarning: Passing (type, 1) or '1type' as a synonym of type is deprecated; in a future version of numpy, it will be understood as (type, (1,)) / '(1,)type'.\n",
      "  _np_qint32 = np.dtype([(\"qint32\", np.int32, 1)])\n",
      "C:\\Users\\luisg\\anaconda3\\envs\\PythonData\\lib\\site-packages\\tensorflow\\python\\framework\\dtypes.py:525: FutureWarning: Passing (type, 1) or '1type' as a synonym of type is deprecated; in a future version of numpy, it will be understood as (type, (1,)) / '(1,)type'.\n",
      "  np_resource = np.dtype([(\"resource\", np.ubyte, 1)])\n",
      "C:\\Users\\luisg\\anaconda3\\envs\\PythonData\\lib\\site-packages\\tensorboard\\compat\\tensorflow_stub\\dtypes.py:541: FutureWarning: Passing (type, 1) or '1type' as a synonym of type is deprecated; in a future version of numpy, it will be understood as (type, (1,)) / '(1,)type'.\n",
      "  _np_qint8 = np.dtype([(\"qint8\", np.int8, 1)])\n",
      "C:\\Users\\luisg\\anaconda3\\envs\\PythonData\\lib\\site-packages\\tensorboard\\compat\\tensorflow_stub\\dtypes.py:542: FutureWarning: Passing (type, 1) or '1type' as a synonym of type is deprecated; in a future version of numpy, it will be understood as (type, (1,)) / '(1,)type'.\n",
      "  _np_quint8 = np.dtype([(\"quint8\", np.uint8, 1)])\n",
      "C:\\Users\\luisg\\anaconda3\\envs\\PythonData\\lib\\site-packages\\tensorboard\\compat\\tensorflow_stub\\dtypes.py:543: FutureWarning: Passing (type, 1) or '1type' as a synonym of type is deprecated; in a future version of numpy, it will be understood as (type, (1,)) / '(1,)type'.\n",
      "  _np_qint16 = np.dtype([(\"qint16\", np.int16, 1)])\n",
      "C:\\Users\\luisg\\anaconda3\\envs\\PythonData\\lib\\site-packages\\tensorboard\\compat\\tensorflow_stub\\dtypes.py:544: FutureWarning: Passing (type, 1) or '1type' as a synonym of type is deprecated; in a future version of numpy, it will be understood as (type, (1,)) / '(1,)type'.\n",
      "  _np_quint16 = np.dtype([(\"quint16\", np.uint16, 1)])\n",
      "C:\\Users\\luisg\\anaconda3\\envs\\PythonData\\lib\\site-packages\\tensorboard\\compat\\tensorflow_stub\\dtypes.py:545: FutureWarning: Passing (type, 1) or '1type' as a synonym of type is deprecated; in a future version of numpy, it will be understood as (type, (1,)) / '(1,)type'.\n",
      "  _np_qint32 = np.dtype([(\"qint32\", np.int32, 1)])\n",
      "C:\\Users\\luisg\\anaconda3\\envs\\PythonData\\lib\\site-packages\\tensorboard\\compat\\tensorflow_stub\\dtypes.py:550: FutureWarning: Passing (type, 1) or '1type' as a synonym of type is deprecated; in a future version of numpy, it will be understood as (type, (1,)) / '(1,)type'.\n",
      "  np_resource = np.dtype([(\"resource\", np.ubyte, 1)])\n"
     ]
    }
   ],
   "source": [
    "import tensorflow"
   ]
  },
  {
   "cell_type": "code",
   "execution_count": 4,
   "metadata": {},
   "outputs": [
    {
     "data": {
      "text/html": [
       "<div>\n",
       "<style scoped>\n",
       "    .dataframe tbody tr th:only-of-type {\n",
       "        vertical-align: middle;\n",
       "    }\n",
       "\n",
       "    .dataframe tbody tr th {\n",
       "        vertical-align: top;\n",
       "    }\n",
       "\n",
       "    .dataframe thead th {\n",
       "        text-align: right;\n",
       "    }\n",
       "</style>\n",
       "<table border=\"1\" class=\"dataframe\">\n",
       "  <thead>\n",
       "    <tr style=\"text-align: right;\">\n",
       "      <th></th>\n",
       "      <th>Area</th>\n",
       "      <th>Perimeter</th>\n",
       "      <th>MajorAxisLength</th>\n",
       "      <th>MinorAxisLength</th>\n",
       "      <th>AspectRation</th>\n",
       "      <th>Eccentricity</th>\n",
       "      <th>ConvexArea</th>\n",
       "      <th>EquivDiameter</th>\n",
       "      <th>Extent</th>\n",
       "      <th>Solidity</th>\n",
       "      <th>roundness</th>\n",
       "      <th>Compactness</th>\n",
       "      <th>ShapeFactor1</th>\n",
       "      <th>ShapeFactor2</th>\n",
       "      <th>ShapeFactor3</th>\n",
       "      <th>ShapeFactor4</th>\n",
       "      <th>Class</th>\n",
       "    </tr>\n",
       "  </thead>\n",
       "  <tbody>\n",
       "    <tr>\n",
       "      <th>0</th>\n",
       "      <td>28395</td>\n",
       "      <td>610.291</td>\n",
       "      <td>208.178117</td>\n",
       "      <td>173.888747</td>\n",
       "      <td>1.197191</td>\n",
       "      <td>0.549812</td>\n",
       "      <td>28715</td>\n",
       "      <td>190.141097</td>\n",
       "      <td>0.763923</td>\n",
       "      <td>0.988856</td>\n",
       "      <td>0.958027</td>\n",
       "      <td>0.913358</td>\n",
       "      <td>0.007332</td>\n",
       "      <td>0.003147</td>\n",
       "      <td>0.834222</td>\n",
       "      <td>0.998724</td>\n",
       "      <td>SEKER</td>\n",
       "    </tr>\n",
       "    <tr>\n",
       "      <th>1</th>\n",
       "      <td>28734</td>\n",
       "      <td>638.018</td>\n",
       "      <td>200.524796</td>\n",
       "      <td>182.734419</td>\n",
       "      <td>1.097356</td>\n",
       "      <td>0.411785</td>\n",
       "      <td>29172</td>\n",
       "      <td>191.272751</td>\n",
       "      <td>0.783968</td>\n",
       "      <td>0.984986</td>\n",
       "      <td>0.887034</td>\n",
       "      <td>0.953861</td>\n",
       "      <td>0.006979</td>\n",
       "      <td>0.003564</td>\n",
       "      <td>0.909851</td>\n",
       "      <td>0.998430</td>\n",
       "      <td>SEKER</td>\n",
       "    </tr>\n",
       "    <tr>\n",
       "      <th>2</th>\n",
       "      <td>29380</td>\n",
       "      <td>624.110</td>\n",
       "      <td>212.826130</td>\n",
       "      <td>175.931143</td>\n",
       "      <td>1.209713</td>\n",
       "      <td>0.562727</td>\n",
       "      <td>29690</td>\n",
       "      <td>193.410904</td>\n",
       "      <td>0.778113</td>\n",
       "      <td>0.989559</td>\n",
       "      <td>0.947849</td>\n",
       "      <td>0.908774</td>\n",
       "      <td>0.007244</td>\n",
       "      <td>0.003048</td>\n",
       "      <td>0.825871</td>\n",
       "      <td>0.999066</td>\n",
       "      <td>SEKER</td>\n",
       "    </tr>\n",
       "    <tr>\n",
       "      <th>3</th>\n",
       "      <td>30008</td>\n",
       "      <td>645.884</td>\n",
       "      <td>210.557999</td>\n",
       "      <td>182.516516</td>\n",
       "      <td>1.153638</td>\n",
       "      <td>0.498616</td>\n",
       "      <td>30724</td>\n",
       "      <td>195.467062</td>\n",
       "      <td>0.782681</td>\n",
       "      <td>0.976696</td>\n",
       "      <td>0.903936</td>\n",
       "      <td>0.928329</td>\n",
       "      <td>0.007017</td>\n",
       "      <td>0.003215</td>\n",
       "      <td>0.861794</td>\n",
       "      <td>0.994199</td>\n",
       "      <td>SEKER</td>\n",
       "    </tr>\n",
       "    <tr>\n",
       "      <th>4</th>\n",
       "      <td>30140</td>\n",
       "      <td>620.134</td>\n",
       "      <td>201.847882</td>\n",
       "      <td>190.279279</td>\n",
       "      <td>1.060798</td>\n",
       "      <td>0.333680</td>\n",
       "      <td>30417</td>\n",
       "      <td>195.896503</td>\n",
       "      <td>0.773098</td>\n",
       "      <td>0.990893</td>\n",
       "      <td>0.984877</td>\n",
       "      <td>0.970516</td>\n",
       "      <td>0.006697</td>\n",
       "      <td>0.003665</td>\n",
       "      <td>0.941900</td>\n",
       "      <td>0.999166</td>\n",
       "      <td>SEKER</td>\n",
       "    </tr>\n",
       "  </tbody>\n",
       "</table>\n",
       "</div>"
      ],
      "text/plain": [
       "    Area  Perimeter  MajorAxisLength  MinorAxisLength  AspectRation  \\\n",
       "0  28395    610.291       208.178117       173.888747      1.197191   \n",
       "1  28734    638.018       200.524796       182.734419      1.097356   \n",
       "2  29380    624.110       212.826130       175.931143      1.209713   \n",
       "3  30008    645.884       210.557999       182.516516      1.153638   \n",
       "4  30140    620.134       201.847882       190.279279      1.060798   \n",
       "\n",
       "   Eccentricity  ConvexArea  EquivDiameter    Extent  Solidity  roundness  \\\n",
       "0      0.549812       28715     190.141097  0.763923  0.988856   0.958027   \n",
       "1      0.411785       29172     191.272751  0.783968  0.984986   0.887034   \n",
       "2      0.562727       29690     193.410904  0.778113  0.989559   0.947849   \n",
       "3      0.498616       30724     195.467062  0.782681  0.976696   0.903936   \n",
       "4      0.333680       30417     195.896503  0.773098  0.990893   0.984877   \n",
       "\n",
       "   Compactness  ShapeFactor1  ShapeFactor2  ShapeFactor3  ShapeFactor4  Class  \n",
       "0     0.913358      0.007332      0.003147      0.834222      0.998724  SEKER  \n",
       "1     0.953861      0.006979      0.003564      0.909851      0.998430  SEKER  \n",
       "2     0.908774      0.007244      0.003048      0.825871      0.999066  SEKER  \n",
       "3     0.928329      0.007017      0.003215      0.861794      0.994199  SEKER  \n",
       "4     0.970516      0.006697      0.003665      0.941900      0.999166  SEKER  "
      ]
     },
     "execution_count": 4,
     "metadata": {},
     "output_type": "execute_result"
    }
   ],
   "source": [
    "bean_df = pd.read_csv('Resources/Dry_Bean_Dataset.csv')\n",
    "bean_df.head()"
   ]
  },
  {
   "cell_type": "markdown",
   "metadata": {},
   "source": [
    "## Data Pre-Processing"
   ]
  },
  {
   "cell_type": "code",
   "execution_count": 5,
   "metadata": {},
   "outputs": [
    {
     "name": "stdout",
     "output_type": "stream",
     "text": [
      "(13611, 16) (13611,)\n"
     ]
    }
   ],
   "source": [
    "X = bean_df.drop(\"Class\", axis = 1)\n",
    "y = bean_df['Class']\n",
    "print(X.shape, y.shape)"
   ]
  },
  {
   "cell_type": "code",
   "execution_count": 6,
   "metadata": {},
   "outputs": [],
   "source": [
    "from sklearn.model_selection import train_test_split\n",
    "from sklearn.preprocessing import LabelEncoder, MinMaxScaler\n",
    "from tensorflow.keras.utils import to_categorical"
   ]
  },
  {
   "cell_type": "code",
   "execution_count": 7,
   "metadata": {},
   "outputs": [],
   "source": [
    "X_train, X_test, y_train, y_test = train_test_split(X, y, random_state = 1)"
   ]
  },
  {
   "cell_type": "code",
   "execution_count": 8,
   "metadata": {},
   "outputs": [],
   "source": [
    "X_scaler = MinMaxScaler().fit(X_train)\n",
    "X_train_scaled = X_scaler.transform(X_train)\n",
    "X_test_scaled = X_scaler.transform(X_test)"
   ]
  },
  {
   "cell_type": "code",
   "execution_count": 9,
   "metadata": {},
   "outputs": [],
   "source": [
    "# Label-encode data set\n",
    "label_encoder = LabelEncoder()\n",
    "label_encoder.fit(y_train)\n",
    "encoded_y_train = label_encoder.transform(y_train)\n",
    "encoded_y_test = label_encoder.transform(y_test)"
   ]
  },
  {
   "cell_type": "code",
   "execution_count": 10,
   "metadata": {},
   "outputs": [],
   "source": [
    "# One-hot-encode the encoded labels\n",
    "y_train_categorical = to_categorical(encoded_y_train)\n",
    "y_test_categorical = to_categorical(encoded_y_test)"
   ]
  },
  {
   "cell_type": "markdown",
   "metadata": {},
   "source": [
    "## Create Neural Network Model - Adam Optimizer"
   ]
  },
  {
   "cell_type": "code",
   "execution_count": 11,
   "metadata": {},
   "outputs": [],
   "source": [
    "from tensorflow.keras.models import Sequential\n",
    "from tensorflow.keras.layers import Dense"
   ]
  },
  {
   "cell_type": "code",
   "execution_count": 12,
   "metadata": {
    "scrolled": true
   },
   "outputs": [
    {
     "name": "stdout",
     "output_type": "stream",
     "text": [
      "WARNING:tensorflow:From C:\\Users\\luisg\\anaconda3\\envs\\PythonData\\lib\\site-packages\\tensorflow\\python\\ops\\init_ops.py:1251: calling VarianceScaling.__init__ (from tensorflow.python.ops.init_ops) with dtype is deprecated and will be removed in a future version.\n",
      "Instructions for updating:\n",
      "Call initializer instance with the dtype argument instead of passing it to the constructor\n"
     ]
    }
   ],
   "source": [
    "# Create model and add layers\n",
    "adam = Sequential()\n",
    "adam.add(Dense(units = 14, activation = 'relu', input_dim = 16))\n",
    "adam.add(Dense(units = 7, activation = 'softmax'))"
   ]
  },
  {
   "cell_type": "code",
   "execution_count": 13,
   "metadata": {},
   "outputs": [],
   "source": [
    "# Compile and fit the model\n",
    "adam.compile(optimizer = 'adam',\n",
    "              loss = 'categorical_crossentropy',\n",
    "              metrics = ['accuracy'])"
   ]
  },
  {
   "cell_type": "code",
   "execution_count": 14,
   "metadata": {
    "scrolled": true
   },
   "outputs": [
    {
     "name": "stdout",
     "output_type": "stream",
     "text": [
      "Model: \"sequential\"\n",
      "_________________________________________________________________\n",
      "Layer (type)                 Output Shape              Param #   \n",
      "=================================================================\n",
      "dense (Dense)                (None, 14)                238       \n",
      "_________________________________________________________________\n",
      "dense_1 (Dense)              (None, 7)                 105       \n",
      "=================================================================\n",
      "Total params: 343\n",
      "Trainable params: 343\n",
      "Non-trainable params: 0\n",
      "_________________________________________________________________\n"
     ]
    }
   ],
   "source": [
    "adam.summary()"
   ]
  },
  {
   "cell_type": "code",
   "execution_count": 15,
   "metadata": {},
   "outputs": [
    {
     "name": "stdout",
     "output_type": "stream",
     "text": [
      "Epoch 1/50\n",
      "10208/10208 - 0s - loss: 1.6566 - acc: 0.3144\n",
      "Epoch 2/50\n",
      "10208/10208 - 0s - loss: 1.0986 - acc: 0.6631\n",
      "Epoch 3/50\n",
      "10208/10208 - 0s - loss: 0.7514 - acc: 0.8234\n",
      "Epoch 4/50\n",
      "10208/10208 - 0s - loss: 0.5772 - acc: 0.8624\n",
      "Epoch 5/50\n",
      "10208/10208 - 0s - loss: 0.4833 - acc: 0.8717\n",
      "Epoch 6/50\n",
      "10208/10208 - 0s - loss: 0.4275 - acc: 0.8753\n",
      "Epoch 7/50\n",
      "10208/10208 - 0s - loss: 0.3923 - acc: 0.8774\n",
      "Epoch 8/50\n",
      "10208/10208 - 0s - loss: 0.3687 - acc: 0.8805\n",
      "Epoch 9/50\n",
      "10208/10208 - 0s - loss: 0.3520 - acc: 0.8818\n",
      "Epoch 10/50\n",
      "10208/10208 - 0s - loss: 0.3398 - acc: 0.8822\n",
      "Epoch 11/50\n",
      "10208/10208 - 0s - loss: 0.3303 - acc: 0.8851\n",
      "Epoch 12/50\n",
      "10208/10208 - 0s - loss: 0.3221 - acc: 0.8853\n",
      "Epoch 13/50\n",
      "10208/10208 - 0s - loss: 0.3169 - acc: 0.8872\n",
      "Epoch 14/50\n",
      "10208/10208 - 0s - loss: 0.3118 - acc: 0.8870\n",
      "Epoch 15/50\n",
      "10208/10208 - 0s - loss: 0.3070 - acc: 0.8887\n",
      "Epoch 16/50\n",
      "10208/10208 - 0s - loss: 0.3025 - acc: 0.8900\n",
      "Epoch 17/50\n",
      "10208/10208 - 0s - loss: 0.2987 - acc: 0.8921\n",
      "Epoch 18/50\n",
      "10208/10208 - 0s - loss: 0.2949 - acc: 0.8934\n",
      "Epoch 19/50\n",
      "10208/10208 - 0s - loss: 0.2906 - acc: 0.8937\n",
      "Epoch 20/50\n",
      "10208/10208 - 0s - loss: 0.2876 - acc: 0.8958\n",
      "Epoch 21/50\n",
      "10208/10208 - 0s - loss: 0.2817 - acc: 0.8971\n",
      "Epoch 22/50\n",
      "10208/10208 - 0s - loss: 0.2789 - acc: 0.8988\n",
      "Epoch 23/50\n",
      "10208/10208 - 0s - loss: 0.2747 - acc: 0.9016\n",
      "Epoch 24/50\n",
      "10208/10208 - 0s - loss: 0.2715 - acc: 0.9022\n",
      "Epoch 25/50\n",
      "10208/10208 - 0s - loss: 0.2678 - acc: 0.9048\n",
      "Epoch 26/50\n",
      "10208/10208 - 0s - loss: 0.2652 - acc: 0.9049\n",
      "Epoch 27/50\n",
      "10208/10208 - 0s - loss: 0.2626 - acc: 0.9048\n",
      "Epoch 28/50\n",
      "10208/10208 - 0s - loss: 0.2593 - acc: 0.9089\n",
      "Epoch 29/50\n",
      "10208/10208 - 0s - loss: 0.2578 - acc: 0.9073\n",
      "Epoch 30/50\n",
      "10208/10208 - 0s - loss: 0.2549 - acc: 0.9088\n",
      "Epoch 31/50\n",
      "10208/10208 - 0s - loss: 0.2522 - acc: 0.9092\n",
      "Epoch 32/50\n",
      "10208/10208 - 0s - loss: 0.2512 - acc: 0.9099\n",
      "Epoch 33/50\n",
      "10208/10208 - 0s - loss: 0.2495 - acc: 0.9105\n",
      "Epoch 34/50\n",
      "10208/10208 - 0s - loss: 0.2475 - acc: 0.9113\n",
      "Epoch 35/50\n",
      "10208/10208 - 0s - loss: 0.2460 - acc: 0.9117\n",
      "Epoch 36/50\n",
      "10208/10208 - 0s - loss: 0.2447 - acc: 0.9127\n",
      "Epoch 37/50\n",
      "10208/10208 - 0s - loss: 0.2443 - acc: 0.9121\n",
      "Epoch 38/50\n",
      "10208/10208 - 0s - loss: 0.2434 - acc: 0.9126\n",
      "Epoch 39/50\n",
      "10208/10208 - 0s - loss: 0.2421 - acc: 0.9126\n",
      "Epoch 40/50\n",
      "10208/10208 - 0s - loss: 0.2408 - acc: 0.9151\n",
      "Epoch 41/50\n",
      "10208/10208 - 0s - loss: 0.2396 - acc: 0.9145\n",
      "Epoch 42/50\n",
      "10208/10208 - 0s - loss: 0.2387 - acc: 0.9142\n",
      "Epoch 43/50\n",
      "10208/10208 - 0s - loss: 0.2386 - acc: 0.9150\n",
      "Epoch 44/50\n",
      "10208/10208 - 0s - loss: 0.2383 - acc: 0.9156\n",
      "Epoch 45/50\n",
      "10208/10208 - 0s - loss: 0.2374 - acc: 0.9140\n",
      "Epoch 46/50\n",
      "10208/10208 - 0s - loss: 0.2364 - acc: 0.9142\n",
      "Epoch 47/50\n",
      "10208/10208 - 0s - loss: 0.2359 - acc: 0.9146\n",
      "Epoch 48/50\n",
      "10208/10208 - 0s - loss: 0.2353 - acc: 0.9150\n",
      "Epoch 49/50\n",
      "10208/10208 - 0s - loss: 0.2354 - acc: 0.9148\n",
      "Epoch 50/50\n",
      "10208/10208 - 0s - loss: 0.2339 - acc: 0.9156\n"
     ]
    }
   ],
   "source": [
    "history = adam.fit(\n",
    "    X_train_scaled,\n",
    "    y_train_categorical,\n",
    "    epochs = 50,\n",
    "    shuffle = True,\n",
    "    verbose = 2\n",
    ")"
   ]
  },
  {
   "cell_type": "code",
   "execution_count": 16,
   "metadata": {},
   "outputs": [],
   "source": [
    "adam_losses = history.history['loss']\n",
    "adam_accs = history.history['acc']"
   ]
  },
  {
   "cell_type": "code",
   "execution_count": 17,
   "metadata": {},
   "outputs": [
    {
     "name": "stdout",
     "output_type": "stream",
     "text": [
      "3403/3403 - 0s - loss: 0.2342 - acc: 0.9192\n",
      "Neural Network with Adam Optimizer - Loss: 0.23419076983950748, Accuracy: 0.9191889762878418\n"
     ]
    }
   ],
   "source": [
    "# Quantify Adam Model \n",
    "adam_loss, adam_acc = adam.evaluate(\n",
    "    X_test_scaled, y_test_categorical, verbose = 2)\n",
    "print(\n",
    "    f\"Neural Network with Adam Optimizer - Loss: {adam_loss}, Accuracy: {adam_acc}\")"
   ]
  },
  {
   "cell_type": "markdown",
   "metadata": {},
   "source": [
    "## Nadam Optimizer"
   ]
  },
  {
   "cell_type": "code",
   "execution_count": 18,
   "metadata": {
    "scrolled": true
   },
   "outputs": [],
   "source": [
    "# Create model and add layers\n",
    "nadam = Sequential()\n",
    "nadam.add(Dense(units = 14, activation = 'relu', input_dim = 16))\n",
    "nadam.add(Dense(units = 7, activation = 'softmax'))"
   ]
  },
  {
   "cell_type": "code",
   "execution_count": 19,
   "metadata": {},
   "outputs": [],
   "source": [
    "# Compile and fit the model\n",
    "nadam.compile(optimizer = 'nadam',\n",
    "              loss = 'categorical_crossentropy',\n",
    "              metrics = ['accuracy'])"
   ]
  },
  {
   "cell_type": "code",
   "execution_count": 20,
   "metadata": {},
   "outputs": [
    {
     "name": "stdout",
     "output_type": "stream",
     "text": [
      "Epoch 1/50\n",
      "10208/10208 - 0s - loss: 1.4994 - acc: 0.4062\n",
      "Epoch 2/50\n",
      "10208/10208 - 0s - loss: 0.9333 - acc: 0.7264\n",
      "Epoch 3/50\n",
      "10208/10208 - 0s - loss: 0.6503 - acc: 0.8484\n",
      "Epoch 4/50\n",
      "10208/10208 - 0s - loss: 0.5100 - acc: 0.8764\n",
      "Epoch 5/50\n",
      "10208/10208 - 0s - loss: 0.4326 - acc: 0.8840\n",
      "Epoch 6/50\n",
      "10208/10208 - 0s - loss: 0.3864 - acc: 0.8867\n",
      "Epoch 7/50\n",
      "10208/10208 - 0s - loss: 0.3569 - acc: 0.8873\n",
      "Epoch 8/50\n",
      "10208/10208 - 0s - loss: 0.3367 - acc: 0.8875\n",
      "Epoch 9/50\n",
      "10208/10208 - 0s - loss: 0.3218 - acc: 0.8905\n",
      "Epoch 10/50\n",
      "10208/10208 - 0s - loss: 0.3107 - acc: 0.8931\n",
      "Epoch 11/50\n",
      "10208/10208 - 0s - loss: 0.3017 - acc: 0.8923\n",
      "Epoch 12/50\n",
      "10208/10208 - 0s - loss: 0.2937 - acc: 0.8983\n",
      "Epoch 13/50\n",
      "10208/10208 - 0s - loss: 0.2880 - acc: 0.8982\n",
      "Epoch 14/50\n",
      "10208/10208 - 0s - loss: 0.2827 - acc: 0.8999\n",
      "Epoch 15/50\n",
      "10208/10208 - 0s - loss: 0.2778 - acc: 0.9020\n",
      "Epoch 16/50\n",
      "10208/10208 - 0s - loss: 0.2737 - acc: 0.9033\n",
      "Epoch 17/50\n",
      "10208/10208 - 0s - loss: 0.2702 - acc: 0.9035\n",
      "Epoch 18/50\n",
      "10208/10208 - 0s - loss: 0.2667 - acc: 0.9056\n",
      "Epoch 19/50\n",
      "10208/10208 - 0s - loss: 0.2637 - acc: 0.9064\n",
      "Epoch 20/50\n",
      "10208/10208 - 0s - loss: 0.2604 - acc: 0.9066\n",
      "Epoch 21/50\n",
      "10208/10208 - 0s - loss: 0.2588 - acc: 0.9062\n",
      "Epoch 22/50\n",
      "10208/10208 - 0s - loss: 0.2562 - acc: 0.9080\n",
      "Epoch 23/50\n",
      "10208/10208 - 0s - loss: 0.2544 - acc: 0.9095\n",
      "Epoch 24/50\n",
      "10208/10208 - 0s - loss: 0.2525 - acc: 0.9111\n",
      "Epoch 25/50\n",
      "10208/10208 - 0s - loss: 0.2508 - acc: 0.9096\n",
      "Epoch 26/50\n",
      "10208/10208 - 0s - loss: 0.2489 - acc: 0.9107\n",
      "Epoch 27/50\n",
      "10208/10208 - 0s - loss: 0.2485 - acc: 0.9102\n",
      "Epoch 28/50\n",
      "10208/10208 - 0s - loss: 0.2458 - acc: 0.9119\n",
      "Epoch 29/50\n",
      "10208/10208 - 0s - loss: 0.2453 - acc: 0.9132\n",
      "Epoch 30/50\n",
      "10208/10208 - 0s - loss: 0.2436 - acc: 0.9126\n",
      "Epoch 31/50\n",
      "10208/10208 - 0s - loss: 0.2427 - acc: 0.9128\n",
      "Epoch 32/50\n",
      "10208/10208 - 0s - loss: 0.2425 - acc: 0.9149\n",
      "Epoch 33/50\n",
      "10208/10208 - 0s - loss: 0.2409 - acc: 0.9137\n",
      "Epoch 34/50\n",
      "10208/10208 - 0s - loss: 0.2405 - acc: 0.9140\n",
      "Epoch 35/50\n",
      "10208/10208 - 0s - loss: 0.2397 - acc: 0.9132\n",
      "Epoch 36/50\n",
      "10208/10208 - 0s - loss: 0.2382 - acc: 0.9148\n",
      "Epoch 37/50\n",
      "10208/10208 - 0s - loss: 0.2383 - acc: 0.9150\n",
      "Epoch 38/50\n",
      "10208/10208 - 0s - loss: 0.2378 - acc: 0.9153\n",
      "Epoch 39/50\n",
      "10208/10208 - 0s - loss: 0.2366 - acc: 0.9145\n",
      "Epoch 40/50\n",
      "10208/10208 - 0s - loss: 0.2361 - acc: 0.9166\n",
      "Epoch 41/50\n",
      "10208/10208 - 0s - loss: 0.2356 - acc: 0.9145\n",
      "Epoch 42/50\n",
      "10208/10208 - 0s - loss: 0.2344 - acc: 0.9150\n",
      "Epoch 43/50\n",
      "10208/10208 - 0s - loss: 0.2346 - acc: 0.9164\n",
      "Epoch 44/50\n",
      "10208/10208 - 0s - loss: 0.2339 - acc: 0.9159\n",
      "Epoch 45/50\n",
      "10208/10208 - 0s - loss: 0.2340 - acc: 0.9168\n",
      "Epoch 46/50\n",
      "10208/10208 - 0s - loss: 0.2325 - acc: 0.9155\n",
      "Epoch 47/50\n",
      "10208/10208 - 0s - loss: 0.2321 - acc: 0.9160\n",
      "Epoch 48/50\n",
      "10208/10208 - 0s - loss: 0.2326 - acc: 0.9162\n",
      "Epoch 49/50\n",
      "10208/10208 - 0s - loss: 0.2319 - acc: 0.9173\n",
      "Epoch 50/50\n",
      "10208/10208 - 0s - loss: 0.2317 - acc: 0.9171\n"
     ]
    }
   ],
   "source": [
    "history = nadam.fit(\n",
    "    X_train_scaled,\n",
    "    y_train_categorical,\n",
    "    epochs = 50,\n",
    "    shuffle = True,\n",
    "    verbose = 2\n",
    ")"
   ]
  },
  {
   "cell_type": "code",
   "execution_count": 21,
   "metadata": {},
   "outputs": [],
   "source": [
    "nadam_losses = history.history['loss']\n",
    "nadam_accs = history.history['acc']"
   ]
  },
  {
   "cell_type": "code",
   "execution_count": 22,
   "metadata": {},
   "outputs": [
    {
     "name": "stdout",
     "output_type": "stream",
     "text": [
      "3403/3403 - 0s - loss: 0.2272 - acc: 0.9174\n",
      "Neural Network with Nadam Optimizer - Loss: 0.22722747726976222, Accuracy: 0.917425811290741\n"
     ]
    }
   ],
   "source": [
    "# Quantify Nadam Model \n",
    "nadam_loss, nadam_acc = nadam.evaluate(\n",
    "    X_test_scaled, y_test_categorical, verbose = 2)\n",
    "print(\n",
    "    f\"Neural Network with Nadam Optimizer - Loss: {nadam_loss}, Accuracy: {nadam_acc}\")"
   ]
  },
  {
   "cell_type": "markdown",
   "metadata": {},
   "source": [
    "## RMSProp Optimizer"
   ]
  },
  {
   "cell_type": "code",
   "execution_count": 23,
   "metadata": {
    "scrolled": true
   },
   "outputs": [],
   "source": [
    "# Create model and add layers\n",
    "rmsprop = Sequential()\n",
    "rmsprop.add(Dense(units = 14, activation = 'relu', input_dim = 16))\n",
    "rmsprop.add(Dense(units = 7, activation = 'softmax'))"
   ]
  },
  {
   "cell_type": "code",
   "execution_count": 24,
   "metadata": {},
   "outputs": [],
   "source": [
    "# Compile and fit the model\n",
    "rmsprop.compile(optimizer = 'rmsprop',\n",
    "              loss = 'categorical_crossentropy',\n",
    "              metrics = ['accuracy'])"
   ]
  },
  {
   "cell_type": "code",
   "execution_count": 25,
   "metadata": {},
   "outputs": [
    {
     "name": "stdout",
     "output_type": "stream",
     "text": [
      "Epoch 1/50\n",
      "10208/10208 - 0s - loss: 1.8842 - acc: 0.3557\n",
      "Epoch 2/50\n",
      "10208/10208 - 0s - loss: 1.6731 - acc: 0.5445\n",
      "Epoch 3/50\n",
      "10208/10208 - 0s - loss: 1.4374 - acc: 0.5783\n",
      "Epoch 4/50\n",
      "10208/10208 - 0s - loss: 1.2339 - acc: 0.6629\n",
      "Epoch 5/50\n",
      "10208/10208 - 0s - loss: 1.0754 - acc: 0.6973\n",
      "Epoch 6/50\n",
      "10208/10208 - 0s - loss: 0.9399 - acc: 0.7334\n",
      "Epoch 7/50\n",
      "10208/10208 - 0s - loss: 0.8098 - acc: 0.8157\n",
      "Epoch 8/50\n",
      "10208/10208 - 0s - loss: 0.6944 - acc: 0.8662\n",
      "Epoch 9/50\n",
      "10208/10208 - 0s - loss: 0.5990 - acc: 0.8796\n",
      "Epoch 10/50\n",
      "10208/10208 - 0s - loss: 0.5262 - acc: 0.8833\n",
      "Epoch 11/50\n",
      "10208/10208 - 0s - loss: 0.4724 - acc: 0.8860\n",
      "Epoch 12/50\n",
      "10208/10208 - 0s - loss: 0.4335 - acc: 0.8883\n",
      "Epoch 13/50\n",
      "10208/10208 - 0s - loss: 0.4054 - acc: 0.8872\n",
      "Epoch 14/50\n",
      "10208/10208 - 0s - loss: 0.3830 - acc: 0.8894\n",
      "Epoch 15/50\n",
      "10208/10208 - 0s - loss: 0.3668 - acc: 0.8909\n",
      "Epoch 16/50\n",
      "10208/10208 - 0s - loss: 0.3525 - acc: 0.8922\n",
      "Epoch 17/50\n",
      "10208/10208 - 0s - loss: 0.3412 - acc: 0.8918\n",
      "Epoch 18/50\n",
      "10208/10208 - 0s - loss: 0.3322 - acc: 0.8943\n",
      "Epoch 19/50\n",
      "10208/10208 - 0s - loss: 0.3237 - acc: 0.8950\n",
      "Epoch 20/50\n",
      "10208/10208 - 0s - loss: 0.3175 - acc: 0.8955\n",
      "Epoch 21/50\n",
      "10208/10208 - 0s - loss: 0.3113 - acc: 0.8958\n",
      "Epoch 22/50\n",
      "10208/10208 - 0s - loss: 0.3060 - acc: 0.8981\n",
      "Epoch 23/50\n",
      "10208/10208 - 0s - loss: 0.3014 - acc: 0.8969\n",
      "Epoch 24/50\n",
      "10208/10208 - 0s - loss: 0.2970 - acc: 0.8980\n",
      "Epoch 25/50\n",
      "10208/10208 - 0s - loss: 0.2936 - acc: 0.8994\n",
      "Epoch 26/50\n",
      "10208/10208 - 0s - loss: 0.2898 - acc: 0.8992\n",
      "Epoch 27/50\n",
      "10208/10208 - 0s - loss: 0.2867 - acc: 0.9009\n",
      "Epoch 28/50\n",
      "10208/10208 - 0s - loss: 0.2838 - acc: 0.9006\n",
      "Epoch 29/50\n",
      "10208/10208 - 0s - loss: 0.2810 - acc: 0.9025\n",
      "Epoch 30/50\n",
      "10208/10208 - 0s - loss: 0.2793 - acc: 0.9014\n",
      "Epoch 31/50\n",
      "10208/10208 - 0s - loss: 0.2770 - acc: 0.9028\n",
      "Epoch 32/50\n",
      "10208/10208 - 0s - loss: 0.2749 - acc: 0.9025\n",
      "Epoch 33/50\n",
      "10208/10208 - 0s - loss: 0.2725 - acc: 0.9037\n",
      "Epoch 34/50\n",
      "10208/10208 - 0s - loss: 0.2707 - acc: 0.9037\n",
      "Epoch 35/50\n",
      "10208/10208 - 0s - loss: 0.2691 - acc: 0.9048\n",
      "Epoch 36/50\n",
      "10208/10208 - 0s - loss: 0.2674 - acc: 0.9046\n",
      "Epoch 37/50\n",
      "10208/10208 - 0s - loss: 0.2659 - acc: 0.9062\n",
      "Epoch 38/50\n",
      "10208/10208 - 0s - loss: 0.2645 - acc: 0.9060\n",
      "Epoch 39/50\n",
      "10208/10208 - 0s - loss: 0.2631 - acc: 0.9057\n",
      "Epoch 40/50\n",
      "10208/10208 - 0s - loss: 0.2617 - acc: 0.9063\n",
      "Epoch 41/50\n",
      "10208/10208 - 0s - loss: 0.2606 - acc: 0.9064\n",
      "Epoch 42/50\n",
      "10208/10208 - 0s - loss: 0.2595 - acc: 0.9073\n",
      "Epoch 43/50\n",
      "10208/10208 - 0s - loss: 0.2581 - acc: 0.9075\n",
      "Epoch 44/50\n",
      "10208/10208 - 0s - loss: 0.2575 - acc: 0.9075\n",
      "Epoch 45/50\n",
      "10208/10208 - 0s - loss: 0.2560 - acc: 0.9098\n",
      "Epoch 46/50\n",
      "10208/10208 - 0s - loss: 0.2550 - acc: 0.9093\n",
      "Epoch 47/50\n",
      "10208/10208 - 0s - loss: 0.2542 - acc: 0.9095\n",
      "Epoch 48/50\n",
      "10208/10208 - 0s - loss: 0.2533 - acc: 0.9098\n",
      "Epoch 49/50\n",
      "10208/10208 - 0s - loss: 0.2524 - acc: 0.9099\n",
      "Epoch 50/50\n",
      "10208/10208 - 0s - loss: 0.2519 - acc: 0.9099\n"
     ]
    }
   ],
   "source": [
    "history = rmsprop.fit(\n",
    "    X_train_scaled,\n",
    "    y_train_categorical,\n",
    "    epochs = 50,\n",
    "    shuffle = True,\n",
    "    verbose = 2\n",
    ")"
   ]
  },
  {
   "cell_type": "code",
   "execution_count": 26,
   "metadata": {},
   "outputs": [],
   "source": [
    "rmsprop_losses = history.history['loss']\n",
    "rmsprop_accs = history.history['acc']"
   ]
  },
  {
   "cell_type": "code",
   "execution_count": 27,
   "metadata": {},
   "outputs": [
    {
     "name": "stdout",
     "output_type": "stream",
     "text": [
      "3403/3403 - 0s - loss: 0.2521 - acc: 0.9080\n",
      "Neural Network with RMSProp Optimizer - Loss: 0.252093127780615, Accuracy: 0.9080223441123962\n"
     ]
    }
   ],
   "source": [
    "# Quantify RMSProp Model \n",
    "rmsprop_loss, rmsprop_acc = rmsprop.evaluate(\n",
    "    X_test_scaled, y_test_categorical, verbose = 2)\n",
    "print(\n",
    "    f\"Neural Network with RMSProp Optimizer - Loss: {rmsprop_loss}, Accuracy: {rmsprop_acc}\") "
   ]
  },
  {
   "cell_type": "markdown",
   "metadata": {},
   "source": [
    "## SGD Optimizer"
   ]
  },
  {
   "cell_type": "code",
   "execution_count": 28,
   "metadata": {
    "scrolled": true
   },
   "outputs": [],
   "source": [
    "# Create model and add layers\n",
    "sgd = Sequential()\n",
    "sgd.add(Dense(units = 14, activation = 'relu', input_dim = 16))\n",
    "sgd.add(Dense(units = 7, activation = 'softmax'))"
   ]
  },
  {
   "cell_type": "code",
   "execution_count": 29,
   "metadata": {},
   "outputs": [],
   "source": [
    "# Compile and fit the model\n",
    "sgd.compile(optimizer = 'sgd',\n",
    "              loss = 'categorical_crossentropy',\n",
    "              metrics = ['accuracy'])"
   ]
  },
  {
   "cell_type": "code",
   "execution_count": 30,
   "metadata": {},
   "outputs": [
    {
     "name": "stdout",
     "output_type": "stream",
     "text": [
      "Epoch 1/50\n",
      "10208/10208 - 0s - loss: 1.8376 - acc: 0.2353\n",
      "Epoch 2/50\n",
      "10208/10208 - 0s - loss: 1.6984 - acc: 0.2640\n",
      "Epoch 3/50\n",
      "10208/10208 - 0s - loss: 1.5694 - acc: 0.3491\n",
      "Epoch 4/50\n",
      "10208/10208 - 0s - loss: 1.4160 - acc: 0.4390\n",
      "Epoch 5/50\n",
      "10208/10208 - 0s - loss: 1.2592 - acc: 0.4964\n",
      "Epoch 6/50\n",
      "10208/10208 - 0s - loss: 1.1153 - acc: 0.5914\n",
      "Epoch 7/50\n",
      "10208/10208 - 0s - loss: 0.9889 - acc: 0.6902\n",
      "Epoch 8/50\n",
      "10208/10208 - 0s - loss: 0.8824 - acc: 0.7498\n",
      "Epoch 9/50\n",
      "10208/10208 - 0s - loss: 0.7949 - acc: 0.8051\n",
      "Epoch 10/50\n",
      "10208/10208 - 0s - loss: 0.7237 - acc: 0.8396\n",
      "Epoch 11/50\n",
      "10208/10208 - 0s - loss: 0.6650 - acc: 0.8567\n",
      "Epoch 12/50\n",
      "10208/10208 - 0s - loss: 0.6167 - acc: 0.8626\n",
      "Epoch 13/50\n",
      "10208/10208 - 0s - loss: 0.5764 - acc: 0.8695\n",
      "Epoch 14/50\n",
      "10208/10208 - 0s - loss: 0.5429 - acc: 0.8742\n",
      "Epoch 15/50\n",
      "10208/10208 - 0s - loss: 0.5144 - acc: 0.8773\n",
      "Epoch 16/50\n",
      "10208/10208 - 0s - loss: 0.4898 - acc: 0.8789\n",
      "Epoch 17/50\n",
      "10208/10208 - 0s - loss: 0.4688 - acc: 0.8827\n",
      "Epoch 18/50\n",
      "10208/10208 - 0s - loss: 0.4502 - acc: 0.8839\n",
      "Epoch 19/50\n",
      "10208/10208 - 0s - loss: 0.4337 - acc: 0.8832\n",
      "Epoch 20/50\n",
      "10208/10208 - 0s - loss: 0.4200 - acc: 0.8828\n",
      "Epoch 21/50\n",
      "10208/10208 - 0s - loss: 0.4081 - acc: 0.8854\n",
      "Epoch 22/50\n",
      "10208/10208 - 0s - loss: 0.3975 - acc: 0.8858\n",
      "Epoch 23/50\n",
      "10208/10208 - 0s - loss: 0.3883 - acc: 0.8852\n",
      "Epoch 24/50\n",
      "10208/10208 - 0s - loss: 0.3798 - acc: 0.8884\n",
      "Epoch 25/50\n",
      "10208/10208 - 0s - loss: 0.3724 - acc: 0.8877\n",
      "Epoch 26/50\n",
      "10208/10208 - 0s - loss: 0.3654 - acc: 0.8865\n",
      "Epoch 27/50\n",
      "10208/10208 - 0s - loss: 0.3593 - acc: 0.8881\n",
      "Epoch 28/50\n",
      "10208/10208 - 0s - loss: 0.3537 - acc: 0.8903\n",
      "Epoch 29/50\n",
      "10208/10208 - 0s - loss: 0.3486 - acc: 0.8904\n",
      "Epoch 30/50\n",
      "10208/10208 - 0s - loss: 0.3438 - acc: 0.8884\n",
      "Epoch 31/50\n",
      "10208/10208 - 0s - loss: 0.3395 - acc: 0.8895\n",
      "Epoch 32/50\n",
      "10208/10208 - 0s - loss: 0.3353 - acc: 0.8913\n",
      "Epoch 33/50\n",
      "10208/10208 - 0s - loss: 0.3316 - acc: 0.8924\n",
      "Epoch 34/50\n",
      "10208/10208 - 0s - loss: 0.3282 - acc: 0.8928\n",
      "Epoch 35/50\n",
      "10208/10208 - 0s - loss: 0.3247 - acc: 0.8925\n",
      "Epoch 36/50\n",
      "10208/10208 - 0s - loss: 0.3219 - acc: 0.8927\n",
      "Epoch 37/50\n",
      "10208/10208 - 0s - loss: 0.3185 - acc: 0.8947\n",
      "Epoch 38/50\n",
      "10208/10208 - 0s - loss: 0.3159 - acc: 0.8944\n",
      "Epoch 39/50\n",
      "10208/10208 - 0s - loss: 0.3134 - acc: 0.8946\n",
      "Epoch 40/50\n",
      "10208/10208 - 0s - loss: 0.3108 - acc: 0.8960\n",
      "Epoch 41/50\n",
      "10208/10208 - 0s - loss: 0.3088 - acc: 0.8962\n",
      "Epoch 42/50\n",
      "10208/10208 - 0s - loss: 0.3063 - acc: 0.8953\n",
      "Epoch 43/50\n",
      "10208/10208 - 0s - loss: 0.3040 - acc: 0.8971\n",
      "Epoch 44/50\n",
      "10208/10208 - 0s - loss: 0.3019 - acc: 0.8976\n",
      "Epoch 45/50\n",
      "10208/10208 - 0s - loss: 0.3001 - acc: 0.8987\n",
      "Epoch 46/50\n",
      "10208/10208 - 0s - loss: 0.2984 - acc: 0.8972\n",
      "Epoch 47/50\n",
      "10208/10208 - 0s - loss: 0.2964 - acc: 0.8982\n",
      "Epoch 48/50\n",
      "10208/10208 - 0s - loss: 0.2949 - acc: 0.8986\n",
      "Epoch 49/50\n",
      "10208/10208 - 0s - loss: 0.2930 - acc: 0.8996\n",
      "Epoch 50/50\n",
      "10208/10208 - 0s - loss: 0.2914 - acc: 0.9006\n"
     ]
    }
   ],
   "source": [
    "history = sgd.fit(\n",
    "    X_train_scaled,\n",
    "    y_train_categorical,\n",
    "    epochs = 50,\n",
    "    shuffle = True,\n",
    "    verbose = 2\n",
    ")"
   ]
  },
  {
   "cell_type": "code",
   "execution_count": 31,
   "metadata": {},
   "outputs": [],
   "source": [
    "sgd_losses = history.history['loss']\n",
    "sgd_accs = history.history['acc']"
   ]
  },
  {
   "cell_type": "code",
   "execution_count": 32,
   "metadata": {},
   "outputs": [
    {
     "name": "stdout",
     "output_type": "stream",
     "text": [
      "3403/3403 - 0s - loss: 0.2927 - acc: 0.9019\n",
      "Neural Network with SGD Optimizer - Loss: 0.2927121544301142, Accuracy: 0.9018512964248657\n"
     ]
    }
   ],
   "source": [
    "# Quantify SGD Model \n",
    "sgd_loss, sgd_acc = sgd.evaluate(\n",
    "    X_test_scaled, y_test_categorical, verbose = 2)\n",
    "print(\n",
    "    f\"Neural Network with SGD Optimizer - Loss: {sgd_loss}, Accuracy: {sgd_acc}\")"
   ]
  },
  {
   "cell_type": "markdown",
   "metadata": {},
   "source": [
    "## Tabulate model accuracies and losses and graph performance"
   ]
  },
  {
   "cell_type": "code",
   "execution_count": 33,
   "metadata": {},
   "outputs": [],
   "source": [
    "# Tabulate\n",
    "optimizer_names = [\"Adam\", \"Nadam\", \"RMSProp\", \"SGD\"]\n",
    "optimizer_accs = [adam_acc, nadam_acc, rmsprop_acc, sgd_acc]\n",
    "optimizer_losses = [adam_loss, nadam_loss, rmsprop_loss, sgd_loss]\n",
    "performance_df = pd.DataFrame({\"Optimizer\": optimizer_names,\n",
    "                               \"Accuracy\": optimizer_accs,\n",
    "                               \"Loss\": optimizer_losses})\n"
   ]
  },
  {
   "cell_type": "code",
   "execution_count": 34,
   "metadata": {},
   "outputs": [
    {
     "data": {
      "image/png": "[encoded data removed]",
      "text/plain": [
       "<Figure size 432x288 with 1 Axes>"
      ]
     },
     "metadata": {
      "needs_background": "light"
     },
     "output_type": "display_data"
    }
   ],
   "source": [
    "## Plot model accuracy and loss over epochs\n",
    "\n",
    "import matplotlib.pyplot as plt\n",
    "\n",
    "epochs = range(1,51)\n",
    "plt.plot(epochs, adam_accs, 'green', label = \"Adam optimizer\")\n",
    "plt.plot(epochs, nadam_accs, 'greenyellow', label = \"Nadam optimizer\")\n",
    "plt.plot(epochs, rmsprop_accs, 'yellow', label = \"RMSProp optimizer\")\n",
    "plt.plot(epochs, sgd_accs, 'coral', label = \"SGD optimizer\")\n",
    "plt.xlabel(\"Epoch\")\n",
    "plt.ylabel(\"Model accuracy\")\n",
    "plt.title(\"Accuracy of different Neural Network optimizers vs. epochs run\")\n",
    "plt.legend()\n",
    "plt.savefig(\"optimizer_accuracy.png\")\n",
    "plt.show()"
   ]
  },
  {
   "cell_type": "code",
   "execution_count": 35,
   "metadata": {},
   "outputs": [
    {
     "data": {
      "image/png": "[encoded data removed]",
      "text/plain": [
       "<Figure size 432x288 with 1 Axes>"
      ]
     },
     "metadata": {
      "needs_background": "light"
     },
     "output_type": "display_data"
    }
   ],
   "source": [
    "plt.plot(epochs, adam_losses, 'green', label = \"Adam optimizer\")\n",
    "plt.plot(epochs, nadam_losses, 'greenyellow', label = \"Nadam optimizer\")\n",
    "plt.plot(epochs, rmsprop_losses, 'yellow', label = \"RMSProp optimizer\")\n",
    "plt.plot(epochs, sgd_losses, 'coral', label = \"SGD optimizer\")\n",
    "plt.xlabel(\"Epoch\")\n",
    "plt.ylabel(\"Model loss\")\n",
    "plt.title(\"Loss of different Neural Network optimizers vs. epochs run\")\n",
    "plt.legend()\n",
    "plt.savefig(\"optimizer_loss.png\")\n",
    "plt.show()"
   ]
  },
  {
   "cell_type": "code",
   "execution_count": 36,
   "metadata": {},
   "outputs": [],
   "source": [
    "performance_df.set_index(\"Optimizer\", inplace = True)"
   ]
  },
  {
   "cell_type": "code",
   "execution_count": 37,
   "metadata": {},
   "outputs": [
    {
     "data": {
      "text/plain": [
       "'<table border=\"1\" class=\"dataframe\">\\n  <thead>\\n    <tr style=\"text-align: right;\">\\n      <th></th>\\n      <th>Accuracy</th>\\n      <th>Loss</th>\\n    </tr>\\n    <tr>\\n      <th>Optimizer</th>\\n      <th></th>\\n      <th></th>\\n    </tr>\\n  </thead>\\n  <tbody>\\n    <tr>\\n      <th>Adam</th>\\n      <td>0.919189</td>\\n      <td>0.234191</td>\\n    </tr>\\n    <tr>\\n      <th>Nadam</th>\\n      <td>0.917426</td>\\n      <td>0.227227</td>\\n    </tr>\\n    <tr>\\n      <th>RMSProp</th>\\n      <td>0.908022</td>\\n      <td>0.252093</td>\\n    </tr>\\n    <tr>\\n      <th>SGD</th>\\n      <td>0.901851</td>\\n      <td>0.292712</td>\\n    </tr>\\n  </tbody>\\n</table>'"
      ]
     },
     "execution_count": 37,
     "metadata": {},
     "output_type": "execute_result"
    }
   ],
   "source": [
    "performance_df.to_html()"
   ]
  },
  {
   "cell_type": "code",
   "execution_count": null,
   "metadata": {},
   "outputs": [],
   "source": []
  }
 ],
 "metadata": {
  "kernelspec": {
   "display_name": "Python 3",
   "language": "python",
   "name": "python3"
  },
  "language_info": {
   "codemirror_mode": {
    "name": "ipython",
    "version": 3
   },
   "file_extension": ".py",
   "mimetype": "text/x-python",
   "name": "python",
   "nbconvert_exporter": "python",
   "pygments_lexer": "ipython3",
   "version": "3.6.10"
  }
 },
 "nbformat": 4,
 "nbformat_minor": 4
}
